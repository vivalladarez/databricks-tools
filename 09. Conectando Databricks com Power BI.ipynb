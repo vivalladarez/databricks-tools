{
 "cells": [
  {
   "cell_type": "markdown",
   "metadata": {
    "application/vnd.databricks.v1+cell": {
     "cellMetadata": {
      "byteLimit": 2048000,
      "rowLimit": 10000
     },
     "inputWidgets": {},
     "nuid": "d2255387-1b73-413a-a848-25ed2c0aab41",
     "showTitle": false,
     "title": ""
    }
   },
   "source": [
    "######Documentação\n",
    "https://docs.databricks.com/pt/partners/bi/power-bi.html"
   ]
  },
  {
   "cell_type": "markdown",
   "metadata": {
    "application/vnd.databricks.v1+cell": {
     "cellMetadata": {
      "byteLimit": 2048000,
      "rowLimit": 10000
     },
     "inputWidgets": {},
     "nuid": "87ab4113-97aa-4430-b477-adb720323cfa",
     "showTitle": false,
     "title": ""
    }
   },
   "source": [
    "###### Localizar Conexão"
   ]
  },
  {
   "cell_type": "code",
   "execution_count": 0,
   "metadata": {
    "application/vnd.databricks.v1+cell": {
     "cellMetadata": {
      "byteLimit": 2048000,
      "rowLimit": 10000
     },
     "inputWidgets": {},
     "nuid": "d2ed724b-9abd-4986-a3a5-fd0e0e48761c",
     "showTitle": false,
     "title": ""
    }
   },
   "outputs": [],
   "source": [
    "# Cluster > JDBC/ODBC \n",
    "# usar Server Hostname e HTTP Path para conexão "
   ]
  },
  {
   "cell_type": "markdown",
   "metadata": {
    "application/vnd.databricks.v1+cell": {
     "cellMetadata": {
      "byteLimit": 2048000,
      "rowLimit": 10000
     },
     "inputWidgets": {},
     "nuid": "56502082-9e8e-42df-bc0d-ae7a9c40e9a0",
     "showTitle": false,
     "title": ""
    }
   },
   "source": [
    "###### Criando banco de Dados\n"
   ]
  },
  {
   "cell_type": "code",
   "execution_count": 0,
   "metadata": {
    "application/vnd.databricks.v1+cell": {
     "cellMetadata": {
      "byteLimit": 2048000,
      "rowLimit": 10000
     },
     "inputWidgets": {},
     "nuid": "113e8d20-3420-40c3-90d4-ba5ccb1783b7",
     "showTitle": false,
     "title": ""
    }
   },
   "outputs": [],
   "source": [
    "# script da Aula (2. Criando Tabelas Via Comando SQL)\n",
    "# Rodar para criar Banco de dados a partir de arquivos SCV'"
   ]
  },
  {
   "cell_type": "code",
   "execution_count": 0,
   "metadata": {
    "application/vnd.databricks.v1+cell": {
     "cellMetadata": {
      "byteLimit": 2048000,
      "implicitDf": true,
      "rowLimit": 10000
     },
     "inputWidgets": {},
     "nuid": "2f0db366-0288-47fc-a6b7-3c9a6bf538ef",
     "showTitle": false,
     "title": ""
    }
   },
   "outputs": [],
   "source": [
    "%sql\n",
    "CREATE DATABASE IF NOT EXISTS BikesCSV;\n",
    "use BikesCSV;\n",
    "CREATE TABLE IF NOT EXISTS Produtos    USING csv OPTIONS ('path' '/FileStore/tables/Bikes/products.csv'    ,'header' 'true','inferSchema' 'true');\n",
    "CREATE TABLE IF NOT EXISTS Clientes    USING csv OPTIONS ('path' '/FileStore/tables/Bikes/customers.csv'   ,'header' 'true','inferSchema' 'true');\n",
    "CREATE TABLE IF NOT EXISTS brands      USING csv OPTIONS ('path' '/FileStore/tables/Bikes/brands.csv'      ,'header' 'true','inferSchema' 'true');\n",
    "CREATE TABLE IF NOT EXISTS categories  USING csv OPTIONS ('path' '/FileStore/tables/Bikes/categories.csv'  ,'header' 'true','inferSchema' 'true');\n",
    "CREATE TABLE IF NOT EXISTS order_items USING csv OPTIONS ('path' '/FileStore/tables/Bikes/order_items.csv' ,'header' 'true','inferSchema' 'true');\n",
    "CREATE TABLE IF NOT EXISTS orders      USING csv OPTIONS ('path' '/FileStore/tables/Bikes/orders.csv'      ,'header' 'true','inferSchema' 'true');\n",
    "CREATE TABLE IF NOT EXISTS staffs      USING csv OPTIONS ('path' '/FileStore/tables/Bikes/staffs.csv'      ,'header' 'true','inferSchema' 'true');\n",
    "CREATE TABLE IF NOT EXISTS stocks      USING csv OPTIONS ('path' '/FileStore/tables/Bikes/stocks.csv'      ,'header' 'true','inferSchema' 'true');\n",
    "CREATE TABLE IF NOT EXISTS stores      USING csv OPTIONS ('path' '/FileStore/tables/Bikes/stores.csv'      ,'header' 'true','inferSchema' 'true');"
   ]
  },
  {
   "cell_type": "code",
   "execution_count": 0,
   "metadata": {
    "application/vnd.databricks.v1+cell": {
     "cellMetadata": {
      "byteLimit": 2048000,
      "implicitDf": true,
      "rowLimit": 10000
     },
     "inputWidgets": {},
     "nuid": "70ba239a-9dcf-4cb2-aa9c-b03316ce63a3",
     "showTitle": false,
     "title": ""
    }
   },
   "outputs": [],
   "source": [
    "%sql\n",
    "show databases\n"
   ]
  },
  {
   "cell_type": "code",
   "execution_count": 0,
   "metadata": {
    "application/vnd.databricks.v1+cell": {
     "cellMetadata": {
      "byteLimit": 2048000,
      "implicitDf": true,
      "rowLimit": 10000
     },
     "inputWidgets": {},
     "nuid": "80babb34-b08d-40f2-854b-110d46f35a7d",
     "showTitle": false,
     "title": ""
    }
   },
   "outputs": [],
   "source": [
    "%sql\n",
    "show tables"
   ]
  },
  {
   "cell_type": "code",
   "execution_count": 0,
   "metadata": {
    "application/vnd.databricks.v1+cell": {
     "cellMetadata": {
      "byteLimit": 2048000,
      "implicitDf": true,
      "rowLimit": 10000
     },
     "inputWidgets": {},
     "nuid": "3093392b-6636-4101-a14f-03bd7bff9980",
     "showTitle": false,
     "title": ""
    }
   },
   "outputs": [],
   "source": [
    "%sql \n",
    "\n",
    "select \n",
    "o.order_id\n",
    ",i.quantity              as Quantidade\n",
    ",p.product_name          as Produto\n",
    ",b.brand_name            as Marca\n",
    ",p.model_year            as Modelo\n",
    ",ct.category_name        as Categoria\n",
    ",i.list_price            as Valor\n",
    ",o.order_date            as DtCompra\n",
    ",c.first_name            as Cliente\n",
    ",c.email                 as EmailCliente\n",
    ",c.city                  as Cidade\n",
    ",c.state                 as Estado\n",
    ",s.store_name            as LojaCompra\n",
    ",s.email                 as EmailLoja\n",
    "from      order_items I\n",
    "left join orders      O  on i.order_id = o.order_id\n",
    "left join clientes    C  on o.customer_id = c.customer_id\n",
    "left join produtos    P  on i.product_id = p.product_id\n",
    "left join stores      S  on o.store_id = s.store_id\n",
    "left join brands      B  on p.brand_id = b.brand_id\n",
    "left join categories  CT on p.category_id = ct.category_id"
   ]
  },
  {
   "cell_type": "markdown",
   "metadata": {
    "application/vnd.databricks.v1+cell": {
     "cellMetadata": {},
     "inputWidgets": {},
     "nuid": "cabcf020-3a6b-4872-ada3-0a4c17e132f3",
     "showTitle": false,
     "title": ""
    }
   },
   "source": [
    "######Transformando resultado da consulta em outra tabela no Banco de Dados"
   ]
  },
  {
   "cell_type": "code",
   "execution_count": 0,
   "metadata": {
    "application/vnd.databricks.v1+cell": {
     "cellMetadata": {
      "byteLimit": 2048000,
      "rowLimit": 10000
     },
     "inputWidgets": {},
     "nuid": "1798071e-d1c4-4fb7-946d-0322cac9f3e5",
     "showTitle": false,
     "title": ""
    }
   },
   "outputs": [],
   "source": [
    "# inserir consulta em uma variavel fica mais facil\n",
    "query = \"\"\"\n",
    "\n",
    "select \n",
    "o.order_id\n",
    ",i.quantity              as Quantidade\n",
    ",p.product_name          as Produto\n",
    ",b.brand_name            as Marca\n",
    ",p.model_year            as Modelo\n",
    ",ct.category_name        as Categoria\n",
    ",i.list_price            as Valor\n",
    ",o.order_date            as DtCompra\n",
    ",c.first_name            as Cliente\n",
    ",c.email                 as EmailCliente\n",
    ",c.city                  as Cidade\n",
    ",c.state                 as Estado\n",
    ",s.store_name            as LojaCompra\n",
    ",s.email                 as EmailLoja\n",
    "from      order_items I\n",
    "left join orders      O  on i.order_id = o.order_id\n",
    "left join clientes    C  on o.customer_id = c.customer_id\n",
    "left join produtos    P  on i.product_id = p.product_id\n",
    "left join stores      S  on o.store_id = s.store_id\n",
    "left join brands      B  on p.brand_id = b.brand_id\n",
    "left join categories  CT on p.category_id = ct.category_id\n",
    "\n",
    "\n",
    "\"\"\"\n",
    "resultado = spark.sql(query)\n",
    "\n",
    "# Salvando em formato delta em banco de dados (\"nao sabe o que é Delta? nos proximos módulos vou dar exemplos e vamos aprender na prática , não se preocupe\")\n",
    "resultado.write.\\\n",
    "    format(\"delta\")\\\n",
    "    .mode(\"overwrite\")\\\n",
    "    .saveAsTable(\"bikescsv.ConsultaCompleta\")\n"
   ]
  },
  {
   "cell_type": "code",
   "execution_count": 0,
   "metadata": {
    "application/vnd.databricks.v1+cell": {
     "cellMetadata": {
      "byteLimit": 2048000,
      "implicitDf": true,
      "rowLimit": 10000
     },
     "inputWidgets": {},
     "nuid": "a0ec852d-4e5e-4f87-b3cb-fca980c754a3",
     "showTitle": false,
     "title": ""
    }
   },
   "outputs": [],
   "source": [
    "%sql\n",
    "select * from consultacompleta\n",
    "-- ver no power bi em forma de tabela"
   ]
  },
  {
   "cell_type": "markdown",
   "metadata": {
    "application/vnd.databricks.v1+cell": {
     "cellMetadata": {},
     "inputWidgets": {},
     "nuid": "3751e75a-70b1-4ebb-9f12-8f2004d73ed2",
     "showTitle": false,
     "title": ""
    }
   },
   "source": [
    "Curiosidades para ir pesquisando "
   ]
  },
  {
   "cell_type": "code",
   "execution_count": 0,
   "metadata": {
    "application/vnd.databricks.v1+cell": {
     "cellMetadata": {},
     "inputWidgets": {},
     "nuid": "068d4550-7e80-41f7-98c5-4e9e8549fc05",
     "showTitle": false,
     "title": ""
    }
   },
   "outputs": [],
   "source": [
    "#usar catalogo hive_metastore"
   ]
  },
  {
   "cell_type": "code",
   "execution_count": 0,
   "metadata": {
    "application/vnd.databricks.v1+cell": {
     "cellMetadata": {},
     "inputWidgets": {},
     "nuid": "56060cd1-fe02-4d2f-86d8-5aff558d9db4",
     "showTitle": false,
     "title": ""
    }
   },
   "outputs": [],
   "source": [
    "\"\"\"\n",
    "Vamos ver tudo isso em aulas posteriores!!!\n",
    "\n",
    "Delta é projetado para manter e gerenciar dados de maneira transacional e eficiente. Essa pasta no DBFS contém os arquivos e metadados necessários para implementar as características do Delta, como transações ACID, controle de versão e otimizações de consulta.\n",
    "\n",
    "A pasta Hive  é uma parte do sistema de gerenciamento de metadados do Databricks, e é usada para manter o registro das tabelas e metadados relacionados. Quando você cria uma tabela no Databricks usando o formato Delta, um registro da tabela é armazenado no Hive Metastore, que é uma parte integrante do ambiente Databricks.\n",
    "\n",
    "\n",
    "\n",
    "\n",
    "\n",
    "\"\"\""
   ]
  },
  {
   "cell_type": "markdown",
   "metadata": {
    "application/vnd.databricks.v1+cell": {
     "cellMetadata": {},
     "inputWidgets": {},
     "nuid": "c5fbfb71-84b6-4ee4-924c-0e1853e206c5",
     "showTitle": false,
     "title": ""
    }
   },
   "source": [
    "###### Salvando todos Arquivos no formato Delta em Banco de Dados"
   ]
  },
  {
   "cell_type": "code",
   "execution_count": 0,
   "metadata": {
    "application/vnd.databricks.v1+cell": {
     "cellMetadata": {
      "byteLimit": 2048000,
      "implicitDf": true,
      "rowLimit": 10000
     },
     "inputWidgets": {},
     "nuid": "21f6b713-c483-4abe-83dd-ad56be782598",
     "showTitle": false,
     "title": ""
    }
   },
   "outputs": [],
   "source": [
    "%sql\n",
    "show databases"
   ]
  },
  {
   "cell_type": "code",
   "execution_count": 0,
   "metadata": {
    "application/vnd.databricks.v1+cell": {
     "cellMetadata": {
      "byteLimit": 2048000,
      "implicitDf": true,
      "rowLimit": 10000
     },
     "inputWidgets": {},
     "nuid": "43564f20-d3bd-4998-80a7-4c8929cb1f5f",
     "showTitle": false,
     "title": ""
    }
   },
   "outputs": [],
   "source": [
    "%sql\n",
    "show tables"
   ]
  },
  {
   "cell_type": "code",
   "execution_count": 0,
   "metadata": {
    "application/vnd.databricks.v1+cell": {
     "cellMetadata": {
      "byteLimit": 2048000,
      "implicitDf": true,
      "rowLimit": 10000
     },
     "inputWidgets": {},
     "nuid": "ba4d5fd4-7b0c-46b8-9ad4-e8227fd6504a",
     "showTitle": false,
     "title": ""
    }
   },
   "outputs": [],
   "source": [
    "%sql\n",
    "-- Criando novo banco de Dados\n",
    "CREATE DATABASE IF NOT EXISTS teste;\n"
   ]
  },
  {
   "cell_type": "code",
   "execution_count": 0,
   "metadata": {
    "application/vnd.databricks.v1+cell": {
     "cellMetadata": {
      "byteLimit": 2048000,
      "implicitDf": true,
      "rowLimit": 10000
     },
     "inputWidgets": {},
     "nuid": "9fabcd69-c237-4778-aac7-696794cda16c",
     "showTitle": false,
     "title": ""
    }
   },
   "outputs": [],
   "source": [
    "%sql\n",
    "--Deletar  tabelas obs(passar banco de dados primeiro.depois nome da tabela)\n",
    "DROP table IF EXISTS bikescsv.brands ;"
   ]
  },
  {
   "cell_type": "code",
   "execution_count": 0,
   "metadata": {
    "application/vnd.databricks.v1+cell": {
     "cellMetadata": {
      "byteLimit": 2048000,
      "implicitDf": true,
      "rowLimit": 10000
     },
     "inputWidgets": {},
     "nuid": "8b012944-671a-4698-83fa-a2f1a3e3f2df",
     "showTitle": false,
     "title": ""
    }
   },
   "outputs": [],
   "source": [
    "%sql\n",
    "--Deletar todos bancos de dados\n",
    "DROP DATABASE IF EXISTS teste CASCADE;\n"
   ]
  },
  {
   "cell_type": "code",
   "execution_count": 0,
   "metadata": {
    "application/vnd.databricks.v1+cell": {
     "cellMetadata": {},
     "inputWidgets": {},
     "nuid": "6e014b0d-b391-4339-92f0-f6c1c8052a22",
     "showTitle": false,
     "title": ""
    }
   },
   "outputs": [],
   "source": [
    "\"\"\"\n",
    "Importanto todos os dados no formato Delta para \n",
    "\n",
    "Fluxo vai ser \n",
    "\n",
    "1° Criar novo banco de Dados\n",
    "2° Transformar todos os dados de origem em um DF\n",
    "3° Salvar os DataFrames no formato Delta para o banco de Dados \n",
    "Vamos Fazer na prática?\n",
    "\n",
    "\"\"\""
   ]
  },
  {
   "cell_type": "code",
   "execution_count": 0,
   "metadata": {
    "application/vnd.databricks.v1+cell": {
     "cellMetadata": {
      "byteLimit": 2048000,
      "implicitDf": true,
      "rowLimit": 10000
     },
     "inputWidgets": {},
     "nuid": "db563a32-0af7-40b9-a8c7-88db085470b5",
     "showTitle": false,
     "title": ""
    }
   },
   "outputs": [],
   "source": [
    "%sql\n",
    "-- 1° Criar novo banco de Dados  para receber as tabelas Delta\n",
    "CREATE DATABASE IF NOT EXISTS BikesDelta;"
   ]
  },
  {
   "cell_type": "code",
   "execution_count": 0,
   "metadata": {
    "application/vnd.databricks.v1+cell": {
     "cellMetadata": {
      "byteLimit": 2048000,
      "rowLimit": 10000
     },
     "inputWidgets": {},
     "nuid": "d7afcfa7-b1d3-4b13-bfeb-8bed8dce68b0",
     "showTitle": false,
     "title": ""
    }
   },
   "outputs": [],
   "source": [
    "\n",
    "#2° Transformar todos os dados de origem em um DF\n",
    "produtos_df     = spark.read.format(\"csv\").option(\"header\", \"true\").option(\"inferSchema\", \"true\").load(\"/FileStore/tables/Bikes/products.csv\")\n",
    "clientes_df     = spark.read.format(\"csv\").option(\"header\", \"true\").option(\"inferSchema\", \"true\").load(\"/FileStore/tables/Bikes/customers.csv\")\n",
    "brands_df       = spark.read.format(\"csv\").option(\"header\", \"true\").option(\"inferSchema\", \"true\").load(\"/FileStore/tables/Bikes/brands.csv\")\n",
    "categories_df   = spark.read.format(\"csv\").option(\"header\", \"true\").option(\"inferSchema\", \"true\").load(\"/FileStore/tables/Bikes/categories.csv\")\n",
    "order_items_df  = spark.read.format(\"csv\").option(\"header\", \"true\").option(\"inferSchema\", \"true\").load(\"/FileStore/tables/Bikes/order_items.csv\")\n",
    "orders_df       = spark.read.format(\"csv\").option(\"header\", \"true\").option(\"inferSchema\", \"true\").load(\"/FileStore/tables/Bikes/orders.csv\")\n",
    "staffs_df       = spark.read.format(\"csv\").option(\"header\", \"true\").option(\"inferSchema\", \"true\").load(\"/FileStore/tables/Bikes/staffs.csv\")\n",
    "stocks_df       = spark.read.format(\"csv\").option(\"header\", \"true\").option(\"inferSchema\", \"true\").load(\"/FileStore/tables/Bikes/stocks.csv\")\n",
    "stores_df       = spark.read.format(\"csv\").option(\"header\", \"true\").option(\"inferSchema\", \"true\").load(\"/FileStore/tables/Bikes/stores.csv\")"
   ]
  },
  {
   "cell_type": "code",
   "execution_count": 0,
   "metadata": {
    "application/vnd.databricks.v1+cell": {
     "cellMetadata": {
      "byteLimit": 2048000,
      "rowLimit": 10000
     },
     "inputWidgets": {},
     "nuid": "61c2789d-54d8-4027-a488-b09c1a40e6c5",
     "showTitle": false,
     "title": ""
    }
   },
   "outputs": [],
   "source": [
    "stocks_df.show(5)"
   ]
  },
  {
   "cell_type": "code",
   "execution_count": 0,
   "metadata": {
    "application/vnd.databricks.v1+cell": {
     "cellMetadata": {
      "byteLimit": 2048000,
      "rowLimit": 10000
     },
     "inputWidgets": {},
     "nuid": "44ffbcde-dc09-4ffa-a445-4f9889510661",
     "showTitle": false,
     "title": ""
    }
   },
   "outputs": [],
   "source": [
    "# 3° Salvar os DataFrames no formato Delta para o banco de Dados\n",
    "produtos_df.write.format(\"delta\").mode(\"overwrite\").saveAsTable(\"BikesDelta.Produtos\")\n",
    "clientes_df.write.format(\"delta\").mode(\"overwrite\").saveAsTable(\"BikesDelta.Clientes\")\n",
    "brands_df.write.format(\"delta\").mode(\"overwrite\").saveAsTable(\"BikesDelta.Brands\")\n",
    "categories_df.write.format(\"delta\").mode(\"overwrite\").saveAsTable(\"BikesDelta.Categories\")\n",
    "order_items_df.write.format(\"delta\").mode(\"overwrite\").saveAsTable(\"BikesDelta.order_items\")\n",
    "orders_df.write.format(\"delta\").mode(\"overwrite\").saveAsTable(\"BikesDelta.Orders\")\n",
    "staffs_df.write.format(\"delta\").mode(\"overwrite\").saveAsTable(\"BikesDelta.Staffs\")\n",
    "stocks_df.write.format(\"delta\").mode(\"overwrite\").saveAsTable(\"BikesDelta.Stocks\")\n",
    "stores_df.write.format(\"delta\").mode(\"overwrite\").saveAsTable(\"BikesDelta.Stores\")"
   ]
  },
  {
   "cell_type": "code",
   "execution_count": 0,
   "metadata": {
    "application/vnd.databricks.v1+cell": {
     "cellMetadata": {
      "byteLimit": 2048000,
      "implicitDf": true,
      "rowLimit": 10000
     },
     "inputWidgets": {},
     "nuid": "4e3bb461-55d6-4005-98e3-91f4011e36f8",
     "showTitle": false,
     "title": ""
    }
   },
   "outputs": [],
   "source": [
    "%sql\n",
    "use BikesDelta;\n",
    "select * from Produtos"
   ]
  },
  {
   "cell_type": "code",
   "execution_count": 0,
   "metadata": {
    "application/vnd.databricks.v1+cell": {
     "cellMetadata": {
      "byteLimit": 2048000,
      "implicitDf": true,
      "rowLimit": 10000
     },
     "inputWidgets": {},
     "nuid": "a3e7a8e4-fced-432a-9b76-18f1ea3f67ba",
     "showTitle": false,
     "title": ""
    }
   },
   "outputs": [],
   "source": [
    "%sql\n",
    "select \n",
    "o.order_id\n",
    ",i.quantity              as Quantidade\n",
    ",p.product_name          as Produto\n",
    ",b.brand_name            as Marca\n",
    ",p.model_year            as Modelo\n",
    ",ct.category_name        as Categoria\n",
    ",i.list_price            as Valor\n",
    ",o.order_date            as DtCompra\n",
    ",c.first_name            as Cliente\n",
    ",c.email                 as EmailCliente\n",
    ",c.city                  as Cidade\n",
    ",c.state                 as Estado\n",
    ",s.store_name            as LojaCompra\n",
    ",s.email                 as EmailLoja\n",
    "from      BikesDelta.order_items I\n",
    "left join BikesDelta.orders      O  on i.order_id = o.order_id\n",
    "left join BikesDelta.clientes    C  on o.customer_id = c.customer_id\n",
    "left join BikesDelta.produtos    P  on i.product_id = p.product_id\n",
    "left join BikesDelta.stores      S  on o.store_id = s.store_id\n",
    "left join BikesDelta.brands      B  on p.brand_id = b.brand_id\n",
    "left join BikesDelta.categories  CT on p.category_id = ct.category_id\n"
   ]
  },
  {
   "cell_type": "code",
   "execution_count": 0,
   "metadata": {
    "application/vnd.databricks.v1+cell": {
     "cellMetadata": {},
     "inputWidgets": {},
     "nuid": "5e012b67-2ccb-481c-aadb-841416cdf152",
     "showTitle": false,
     "title": ""
    }
   },
   "outputs": [],
   "source": [
    "#usar catalogo hive_metastore"
   ]
  }
 ],
 "metadata": {
  "application/vnd.databricks.v1+notebook": {
   "dashboards": [],
   "language": "python",
   "notebookMetadata": {
    "mostRecentlyExecutedCommandWithImplicitDF": {
     "commandId": 3245042074580531,
     "dataframes": [
      "_sqldf"
     ]
    },
    "pythonIndentUnit": 4
   },
   "notebookName": "09. Conectando Databricks com Power BI",
   "widgets": {}
  }
 },
 "nbformat": 4,
 "nbformat_minor": 0
}
