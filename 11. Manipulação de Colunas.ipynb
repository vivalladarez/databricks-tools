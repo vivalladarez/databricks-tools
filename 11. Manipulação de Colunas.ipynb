{
 "cells": [
  {
   "cell_type": "markdown",
   "metadata": {
    "application/vnd.databricks.v1+cell": {
     "cellMetadata": {},
     "inputWidgets": {},
     "nuid": "39cbba60-cae6-4ac2-a5ab-69778f7a0870",
     "showTitle": false,
     "title": ""
    }
   },
   "source": [
    "###### Tipos de Dados\n",
    "Referencia de Documetação https://spark.apache.org/docs/latest/api/python/reference/index.html"
   ]
  },
  {
   "cell_type": "code",
   "execution_count": 0,
   "metadata": {
    "application/vnd.databricks.v1+cell": {
     "cellMetadata": {
      "byteLimit": 2048000,
      "rowLimit": 10000
     },
     "inputWidgets": {},
     "nuid": "b85ad422-76de-429c-86cf-756f144841ae",
     "showTitle": false,
     "title": ""
    }
   },
   "outputs": [],
   "source": [
    "df = spark.read.json(\"dbfs:/FileStore/tables/Anac/V_OCORRENCIA_AMPLA.json\")\n",
    "display(df)"
   ]
  },
  {
   "cell_type": "code",
   "execution_count": 0,
   "metadata": {
    "application/vnd.databricks.v1+cell": {
     "cellMetadata": {
      "byteLimit": 2048000,
      "rowLimit": 10000
     },
     "inputWidgets": {},
     "nuid": "feb61625-e2d7-4534-9e1e-83d50447a53f",
     "showTitle": false,
     "title": ""
    }
   },
   "outputs": [],
   "source": [
    "orders_df       = spark.read.\\\n",
    "    format(\"csv\")\\\n",
    "    .option(\"header\", \"true\")\\\n",
    "    .option(\"inferSchema\", \"true\")\\\n",
    "    .load(\"/FileStore/tables/Bikes/orders.csv\")\n",
    "display(orders_df)"
   ]
  },
  {
   "cell_type": "code",
   "execution_count": 0,
   "metadata": {
    "application/vnd.databricks.v1+cell": {
     "cellMetadata": {
      "byteLimit": 2048000,
      "rowLimit": 10000
     },
     "inputWidgets": {},
     "nuid": "5f24c1e2-6c3d-47fc-99e6-80941cf26e22",
     "showTitle": false,
     "title": ""
    }
   },
   "outputs": [],
   "source": [
    "orders_df.printSchema()"
   ]
  },
  {
   "cell_type": "code",
   "execution_count": 0,
   "metadata": {
    "application/vnd.databricks.v1+cell": {
     "cellMetadata": {},
     "inputWidgets": {},
     "nuid": "a44b087c-c87d-44bc-9205-45175454b734",
     "showTitle": false,
     "title": ""
    }
   },
   "outputs": [],
   "source": [
    "#(nullable = true), isso indica que alguns dos registros nessa coluna podem ter valores nulos"
   ]
  },
  {
   "cell_type": "code",
   "execution_count": 0,
   "metadata": {
    "application/vnd.databricks.v1+cell": {
     "cellMetadata": {},
     "inputWidgets": {},
     "nuid": "9ab2b97d-2a8b-453d-bd68-39fa83fcf0ad",
     "showTitle": false,
     "title": ""
    }
   },
   "outputs": [],
   "source": [
    "#Tipos De Dados\n",
    "\"\"\"\n",
    "string ou varchar: Texto.\n",
    "integer ou int:    Numero inteiro.\n",
    "long:              Numero inteiro longo.\n",
    "double:            precisão dupla.\n",
    "float:             precisão simples.\n",
    "decimal:           decimal.\n",
    "timestamp:         Data e hora.\n",
    "date:              Somente a Data.\n",
    "boolean:           booleana (True e False) 0=False e 1=True.\n",
    "\n",
    "\"\"\""
   ]
  },
  {
   "cell_type": "code",
   "execution_count": 0,
   "metadata": {
    "application/vnd.databricks.v1+cell": {
     "cellMetadata": {
      "byteLimit": 2048000,
      "rowLimit": 10000
     },
     "inputWidgets": {},
     "nuid": "8355a4b5-4610-4d25-8c5b-580d29cf4d4c",
     "showTitle": false,
     "title": ""
    }
   },
   "outputs": [],
   "source": [
    "#ver nomes das colunas \n",
    "print(df.columns)"
   ]
  },
  {
   "cell_type": "code",
   "execution_count": 0,
   "metadata": {
    "application/vnd.databricks.v1+cell": {
     "cellMetadata": {
      "byteLimit": 2048000,
      "rowLimit": 10000
     },
     "inputWidgets": {},
     "nuid": "f9af79c3-0633-4013-9905-834499b7ebe9",
     "showTitle": false,
     "title": ""
    }
   },
   "outputs": [],
   "source": [
    "for Loop in df.columns:\n",
    "    print(Loop)\n",
    "\n"
   ]
  },
  {
   "cell_type": "markdown",
   "metadata": {
    "application/vnd.databricks.v1+cell": {
     "cellMetadata": {},
     "inputWidgets": {},
     "nuid": "f2e20950-a045-4d1c-965e-2c33eb1902dc",
     "showTitle": false,
     "title": ""
    }
   },
   "source": [
    "######Selecionando apenas algumas colunas do DF"
   ]
  },
  {
   "cell_type": "code",
   "execution_count": 0,
   "metadata": {
    "application/vnd.databricks.v1+cell": {
     "cellMetadata": {
      "byteLimit": 2048000,
      "rowLimit": 10000
     },
     "inputWidgets": {},
     "nuid": "88ae5cc3-90f6-4279-92d7-529cc4805e9e",
     "showTitle": false,
     "title": ""
    }
   },
   "outputs": [],
   "source": [
    "df = spark.read.json(\"dbfs:/FileStore/tables/Anac/V_OCORRENCIA_AMPLA.json\")\n",
    "display(df)"
   ]
  },
  {
   "cell_type": "code",
   "execution_count": 0,
   "metadata": {
    "application/vnd.databricks.v1+cell": {
     "cellMetadata": {
      "byteLimit": 2048000,
      "rowLimit": 10000
     },
     "inputWidgets": {},
     "nuid": "dcccddfc-4fc9-42fc-b3a5-3467f9440043",
     "showTitle": false,
     "title": ""
    }
   },
   "outputs": [],
   "source": [
    "print(df.columns)"
   ]
  },
  {
   "cell_type": "code",
   "execution_count": 0,
   "metadata": {
    "application/vnd.databricks.v1+cell": {
     "cellMetadata": {
      "byteLimit": 2048000,
      "rowLimit": 10000
     },
     "inputWidgets": {},
     "nuid": "46fbc881-fd70-4b00-8af8-c5806300b479",
     "showTitle": false,
     "title": ""
    }
   },
   "outputs": [],
   "source": [
    "display( df['Classificacao_da_Ocorrência','Danos_a_Aeronave','UF','Municipio','Ilesos_Passageiros']) \n"
   ]
  },
  {
   "cell_type": "code",
   "execution_count": 0,
   "metadata": {
    "application/vnd.databricks.v1+cell": {
     "cellMetadata": {
      "byteLimit": 2048000,
      "rowLimit": 10000
     },
     "inputWidgets": {},
     "nuid": "53e49489-9aac-480a-b9f4-e16380171bb6",
     "showTitle": false,
     "title": ""
    }
   },
   "outputs": [],
   "source": [
    "#salvando em um novo Df\n",
    "Filtrado =  df['Classificacao_da_Ocorrência','Danos_a_Aeronave','UF','Municipio','Ilesos_Passageiros']\n",
    "display(Filtrado)"
   ]
  },
  {
   "cell_type": "code",
   "execution_count": 0,
   "metadata": {
    "application/vnd.databricks.v1+cell": {
     "cellMetadata": {
      "byteLimit": 2048000,
      "rowLimit": 10000
     },
     "inputWidgets": {},
     "nuid": "ccb8f329-7340-4bc2-aa6b-7f577b3820c8",
     "showTitle": false,
     "title": ""
    }
   },
   "outputs": [],
   "source": [
    "df.columns"
   ]
  },
  {
   "cell_type": "code",
   "execution_count": 0,
   "metadata": {
    "application/vnd.databricks.v1+cell": {
     "cellMetadata": {
      "byteLimit": 2048000,
      "rowLimit": 10000
     },
     "inputWidgets": {},
     "nuid": "958dbcf0-4913-4dd5-8713-2f115c9a6829",
     "showTitle": false,
     "title": ""
    }
   },
   "outputs": [],
   "source": [
    "#Criando uma variavel com as colunas (lista)\n",
    "ColunasSelecionadas = [\n",
    "'Categoria_da_Aeronave',\n",
    "'Classificacao_da_Ocorrência',\n",
    "'Danos_a_Aeronave',\n",
    "'Data_da_Ocorrencia',\n",
    "'Descricao_do_Tipo',\n",
    "'Fase_da_Operacao'\n",
    "]\n",
    "\n",
    "display( df[ColunasSelecionadas])"
   ]
  },
  {
   "cell_type": "code",
   "execution_count": 0,
   "metadata": {
    "application/vnd.databricks.v1+cell": {
     "cellMetadata": {
      "byteLimit": 2048000,
      "rowLimit": 10000
     },
     "inputWidgets": {},
     "nuid": "1ad99a37-45fb-441e-9bfc-4de18087446a",
     "showTitle": false,
     "title": ""
    }
   },
   "outputs": [],
   "source": [
    "#Salvando em um Df \n",
    "ColunasSelecionadas = [\n",
    "'Categoria_da_Aeronave',\n",
    "'Classificacao_da_Ocorrência',\n",
    "'Danos_a_Aeronave',\n",
    "'Data_da_Ocorrencia',\n",
    "'Descricao_do_Tipo',\n",
    "'Fase_da_Operacao'\n",
    "]\n",
    "\n",
    "Novo = df[ColunasSelecionadas]\n",
    "display(Novo)"
   ]
  },
  {
   "cell_type": "code",
   "execution_count": 0,
   "metadata": {
    "application/vnd.databricks.v1+cell": {
     "cellMetadata": {
      "byteLimit": 2048000,
      "rowLimit": 10000
     },
     "inputWidgets": {},
     "nuid": "5482b3a7-9cb6-4f20-9364-9f26292cf920",
     "showTitle": false,
     "title": ""
    }
   },
   "outputs": [],
   "source": [
    "print(df.columns)"
   ]
  },
  {
   "cell_type": "code",
   "execution_count": 0,
   "metadata": {
    "application/vnd.databricks.v1+cell": {
     "cellMetadata": {
      "byteLimit": 2048000,
      "rowLimit": 10000
     },
     "inputWidgets": {},
     "nuid": "6f5b2876-ba31-46fc-ba87-b44537272fbd",
     "showTitle": false,
     "title": ""
    }
   },
   "outputs": [],
   "source": [
    "#Método Select\n",
    "display(df.select('Danos_a_Aeronave','Data_da_Ocorrencia','Operador', 'UF') )"
   ]
  },
  {
   "cell_type": "code",
   "execution_count": 0,
   "metadata": {
    "application/vnd.databricks.v1+cell": {
     "cellMetadata": {
      "byteLimit": 2048000,
      "rowLimit": 10000
     },
     "inputWidgets": {},
     "nuid": "4e61ea60-3703-4cf8-b62a-bb05d15de5fd",
     "showTitle": false,
     "title": ""
    }
   },
   "outputs": [],
   "source": [
    "#Salvar em Df Novo Denovo rsrsrsrs (tirar fora o display )\n",
    "\n",
    "\n",
    "NovoDenovo = df.select('Operacao','Tipo_de_Aerodromo', 'Tipo_de_Ocorrencia', 'UF')\n",
    "display(NovoDenovo)"
   ]
  },
  {
   "cell_type": "markdown",
   "metadata": {
    "application/vnd.databricks.v1+cell": {
     "cellMetadata": {},
     "inputWidgets": {},
     "nuid": "668b13c8-4024-4a7e-afa6-095891a0f167",
     "showTitle": false,
     "title": ""
    }
   },
   "source": [
    "######Criando novas Colunas "
   ]
  },
  {
   "cell_type": "code",
   "execution_count": 0,
   "metadata": {
    "application/vnd.databricks.v1+cell": {
     "cellMetadata": {
      "byteLimit": 2048000,
      "rowLimit": 10000
     },
     "inputWidgets": {},
     "nuid": "d76177a4-d804-4bd7-ad54-bf516a40f7d1",
     "showTitle": false,
     "title": ""
    }
   },
   "outputs": [],
   "source": [
    "df = spark.read.json(\"dbfs:/FileStore/tables/Anac/V_OCORRENCIA_AMPLA.json\")\n",
    "display(df)"
   ]
  },
  {
   "cell_type": "code",
   "execution_count": 0,
   "metadata": {
    "application/vnd.databricks.v1+cell": {
     "cellMetadata": {
      "byteLimit": 2048000,
      "rowLimit": 10000
     },
     "inputWidgets": {},
     "nuid": "8b819008-f66f-4376-9a4b-fe36faa47fd6",
     "showTitle": false,
     "title": ""
    }
   },
   "outputs": [],
   "source": [
    "display(df['Classificacao_da_Ocorrência','UF','Municipio'])"
   ]
  },
  {
   "cell_type": "code",
   "execution_count": 0,
   "metadata": {
    "application/vnd.databricks.v1+cell": {
     "cellMetadata": {
      "byteLimit": 2048000,
      "rowLimit": 10000
     },
     "inputWidgets": {},
     "nuid": "3c94b082-1020-40c2-be58-1114b5e1b33f",
     "showTitle": false,
     "title": ""
    }
   },
   "outputs": [],
   "source": [
    "teste = df['Classificacao_da_Ocorrência','UF','Municipio']"
   ]
  },
  {
   "cell_type": "code",
   "execution_count": 0,
   "metadata": {
    "application/vnd.databricks.v1+cell": {
     "cellMetadata": {
      "byteLimit": 2048000,
      "rowLimit": 10000
     },
     "inputWidgets": {},
     "nuid": "68274213-ccbc-4975-bcb2-cf46fc91e56a",
     "showTitle": false,
     "title": ""
    }
   },
   "outputs": [],
   "source": [
    "display(teste)"
   ]
  },
  {
   "cell_type": "code",
   "execution_count": 0,
   "metadata": {
    "application/vnd.databricks.v1+cell": {
     "cellMetadata": {
      "byteLimit": 2048000,
      "rowLimit": 10000
     },
     "inputWidgets": {},
     "nuid": "2f5afde0-29f6-41ce-9b5e-539522512246",
     "showTitle": false,
     "title": ""
    }
   },
   "outputs": [],
   "source": [
    "from pyspark.sql.functions import lit\n",
    "display(teste.withColumn(\"TesteTexto\",lit(10)    ) )"
   ]
  },
  {
   "cell_type": "code",
   "execution_count": 0,
   "metadata": {
    "application/vnd.databricks.v1+cell": {
     "cellMetadata": {
      "byteLimit": 2048000,
      "rowLimit": 10000
     },
     "inputWidgets": {},
     "nuid": "e424f7ca-ec38-42a8-a6ec-284cbf04dfcd",
     "showTitle": false,
     "title": ""
    }
   },
   "outputs": [],
   "source": [
    "#Nova coluna com minicipio - UF obs p -  ou qualqer caractere que inserir pode dar erro por nao fazer part do concat \n",
    "#Lit = Trazer o valor literal para a coluna ex uma coluna com todas as linhas com o valor 10 ou com a  palava Brasil \n",
    "\n",
    "from pyspark.sql.functions import concat,lit\n",
    "display(teste.withColumn(\"Municipio_UF\", concat(teste.Municipio, lit(\" - \"),teste[\"UF\"]  ) )  )"
   ]
  },
  {
   "cell_type": "code",
   "execution_count": 0,
   "metadata": {
    "application/vnd.databricks.v1+cell": {
     "cellMetadata": {
      "byteLimit": 2048000,
      "rowLimit": 10000
     },
     "inputWidgets": {},
     "nuid": "3340e953-2b82-469b-9c35-0df5311ed5b0",
     "showTitle": false,
     "title": ""
    }
   },
   "outputs": [],
   "source": [
    "#Salvando em Df\n",
    "from pyspark.sql.functions import concat,lit\n",
    "Tratado = teste.withColumn(\"Municipio_UF\", concat(teste.Municipio, lit(\" - \"),df[\"UF\"]  ) )\n",
    "display(Tratado)\n",
    "\n"
   ]
  },
  {
   "cell_type": "code",
   "execution_count": 0,
   "metadata": {
    "application/vnd.databricks.v1+cell": {
     "cellMetadata": {
      "byteLimit": 2048000,
      "rowLimit": 10000
     },
     "inputWidgets": {},
     "nuid": "e9caf5d4-0a8f-4ceb-92e7-171dacace09c",
     "showTitle": false,
     "title": ""
    }
   },
   "outputs": [],
   "source": [
    "#Inserindo mais de uma coluna no mesmo comando exemplo uma coluna com país , outra com Municipio em letra miniscula \n",
    "from pyspark.sql.functions import concat,lit,lower\n",
    "Tratado2 = teste\\\n",
    "    .withColumn(\"Municipio_UF\", concat(teste.Municipio, lit(\" - \"),df[\"UF\"]  ) )\\\n",
    "    .withColumn(\"País\",lit(\"Brasil\")  )\\\n",
    "    .withColumn(\"Minisculo\", lower(teste.Municipio  ) )\n",
    "\n",
    "display(Tratado2)\n"
   ]
  },
  {
   "cell_type": "markdown",
   "metadata": {
    "application/vnd.databricks.v1+cell": {
     "cellMetadata": {},
     "inputWidgets": {},
     "nuid": "25c3cea3-5a71-467a-a802-0c60527f1844",
     "showTitle": false,
     "title": ""
    }
   },
   "source": [
    "######Criando Coluna Condicional\n"
   ]
  },
  {
   "cell_type": "code",
   "execution_count": 0,
   "metadata": {
    "application/vnd.databricks.v1+cell": {
     "cellMetadata": {
      "byteLimit": 2048000,
      "rowLimit": 10000
     },
     "inputWidgets": {},
     "nuid": "039e5b4e-bbd0-426f-9a48-7186254dcbe0",
     "showTitle": false,
     "title": ""
    }
   },
   "outputs": [],
   "source": [
    "df = spark.read.json(\"dbfs:/FileStore/tables/Anac/V_OCORRENCIA_AMPLA.json\")\n",
    "display(df)"
   ]
  },
  {
   "cell_type": "code",
   "execution_count": 0,
   "metadata": {
    "application/vnd.databricks.v1+cell": {
     "cellMetadata": {
      "byteLimit": 2048000,
      "rowLimit": 10000
     },
     "inputWidgets": {},
     "nuid": "d31fbba1-bee8-4ba4-917b-024bf8625ceb",
     "showTitle": false,
     "title": ""
    }
   },
   "outputs": [],
   "source": [
    "print(df.columns)"
   ]
  },
  {
   "cell_type": "code",
   "execution_count": 0,
   "metadata": {
    "application/vnd.databricks.v1+cell": {
     "cellMetadata": {
      "byteLimit": 2048000,
      "rowLimit": 10000
     },
     "inputWidgets": {},
     "nuid": "f23643a0-0b46-4626-bcb3-e70962616037",
     "showTitle": false,
     "title": ""
    }
   },
   "outputs": [],
   "source": [
    "Regiao = df[ 'Danos_a_Aeronave','UF']\n",
    "display(Regiao)"
   ]
  },
  {
   "cell_type": "code",
   "execution_count": 0,
   "metadata": {
    "application/vnd.databricks.v1+cell": {
     "cellMetadata": {
      "byteLimit": 2048000,
      "rowLimit": 10000
     },
     "inputWidgets": {},
     "nuid": "5fa22dde-1231-4dbb-b25a-a40d9387b770",
     "showTitle": false,
     "title": ""
    }
   },
   "outputs": [],
   "source": [
    "#Estado \\ Regiao \n",
    "\"\"\"\n",
    "    'AC': 'Norte',\n",
    "    'AL': 'Nordeste',\n",
    "    'AP': 'Norte',\n",
    "    'AM': 'Norte',\n",
    "    'BA': 'Nordeste',\n",
    "    'CE': 'Nordeste',\n",
    "    'ES': 'Sudeste',\n",
    "    'GO': 'Centro-Oeste',\n",
    "    'MA': 'Nordeste',\n",
    "    'MT': 'Centro-Oeste',\n",
    "    'MS': 'Centro-Oeste',\n",
    "    'MG': 'Sudeste',\n",
    "    'PA': 'Norte',\n",
    "    'PB': 'Nordeste',\n",
    "    'PR': 'Sul',\n",
    "    'PE': 'Nordeste',\n",
    "    'PI': 'Nordeste',\n",
    "    'RJ': 'Sudeste',\n",
    "    'RN': 'Nordeste',\n",
    "    'RS': 'Sul',\n",
    "    'RO': 'Norte',\n",
    "    'RR': 'Norte',\n",
    "    'SC': 'Sul',\n",
    "    'SP': 'Sudeste',\n",
    "    'SE': 'Nordeste',\n",
    "    'TO': 'Norte'\n",
    "\"\"\"\n"
   ]
  },
  {
   "cell_type": "code",
   "execution_count": 0,
   "metadata": {
    "application/vnd.databricks.v1+cell": {
     "cellMetadata": {
      "byteLimit": 2048000,
      "rowLimit": 10000
     },
     "inputWidgets": {},
     "nuid": "eaba9a01-0b89-49d3-95aa-e864500337ef",
     "showTitle": false,
     "title": ""
    }
   },
   "outputs": [],
   "source": [
    "from pyspark.sql.functions import when\n",
    "Regiao = Regiao.withColumn(\"Regiao\", when(df.UF == \"MG\", \"Sudeste\").otherwise(\"Outra Regiao\"))\n",
    "display(Regiao)\n",
    "#When = quando \n",
    "#otherwise = outra Forma (senão)"
   ]
  },
  {
   "cell_type": "code",
   "execution_count": 0,
   "metadata": {
    "application/vnd.databricks.v1+cell": {
     "cellMetadata": {
      "byteLimit": 2048000,
      "rowLimit": 10000
     },
     "inputWidgets": {},
     "nuid": "742e623e-d93b-4fd8-b760-6bc02f9e5afe",
     "showTitle": false,
     "title": ""
    }
   },
   "outputs": [],
   "source": [
    "#mais de uma condição  isin - esta em (Estra dentro de algo)  Muito usada para verificar se os valores de uma coluna ou expressão estão contidos em um conjunto de valores especificados\n",
    "from pyspark.sql.functions import when\n",
    "Regiao = Regiao\\\n",
    "    .withColumn(\"Regiao\", when(df.UF.isin (\"MG\",\"SP\",\"RJ\",\"ES\"), \"Sudeste\").otherwise(\"Outra Regiao\"))\n",
    "display(Regiao)"
   ]
  },
  {
   "cell_type": "code",
   "execution_count": 0,
   "metadata": {
    "application/vnd.databricks.v1+cell": {
     "cellMetadata": {
      "byteLimit": 2048000,
      "rowLimit": 10000
     },
     "inputWidgets": {},
     "nuid": "782aa166-78b8-4bfa-a705-03b8348d58ff",
     "showTitle": false,
     "title": ""
    }
   },
   "outputs": [],
   "source": [
    "#Fazendo o mesmo Para regiao Sul\n",
    "\"\"\"\n",
    "    'PR': 'Sul',\n",
    "    'RS': 'Sul',\n",
    "    'SC': 'Sul',\n",
    "\"\"\"\n",
    "from pyspark.sql.functions import when\n",
    "Regiao = Regiao\\\n",
    "    .withColumn(\"Regiao\",\\\n",
    "        when(df.UF.isin (\"MG\",\"SP\",\"RJ\",\"ES\"), \"Sudeste\")\\\n",
    "        .when(df.UF.isin (\"PR\",\"RS\",\"SC\"), \"Sul\" )\n",
    "        .otherwise(\"Outra Regiao\"))\n",
    "display(Regiao)\n",
    "\n",
    "\n"
   ]
  },
  {
   "cell_type": "code",
   "execution_count": 0,
   "metadata": {
    "application/vnd.databricks.v1+cell": {
     "cellMetadata": {},
     "inputWidgets": {},
     "nuid": "fa8c2fce-9733-4e22-a80c-395b31322824",
     "showTitle": false,
     "title": ""
    }
   },
   "outputs": [],
   "source": [
    "#Treine com as Demais "
   ]
  },
  {
   "cell_type": "markdown",
   "metadata": {
    "application/vnd.databricks.v1+cell": {
     "cellMetadata": {},
     "inputWidgets": {},
     "nuid": "39a3ac21-875a-407b-863d-205b83615b8e",
     "showTitle": false,
     "title": ""
    }
   },
   "source": [
    "###### Coluna Condicional de valor "
   ]
  },
  {
   "cell_type": "code",
   "execution_count": 0,
   "metadata": {
    "application/vnd.databricks.v1+cell": {
     "cellMetadata": {
      "byteLimit": 2048000,
      "rowLimit": 10000
     },
     "inputWidgets": {},
     "nuid": "c8d7565a-1c78-4b60-8b65-2480c3105230",
     "showTitle": false,
     "title": ""
    }
   },
   "outputs": [],
   "source": [
    "#Coluna Condicional de valor \n",
    "orders_df       = spark.read.\\\n",
    "    format(\"csv\")\\\n",
    "    .option(\"header\", \"true\")\\\n",
    "    .option(\"inferSchema\", \"true\")\\\n",
    "    .load(\"/FileStore/tables/Bikes/orders.csv\")\n",
    "display(orders_df)"
   ]
  },
  {
   "cell_type": "code",
   "execution_count": 0,
   "metadata": {
    "application/vnd.databricks.v1+cell": {
     "cellMetadata": {
      "byteLimit": 2048000,
      "rowLimit": 10000
     },
     "inputWidgets": {},
     "nuid": "a8620ba6-d7f1-438d-98c6-7dff9eccfeae",
     "showTitle": false,
     "title": ""
    }
   },
   "outputs": [],
   "source": [
    "#Nova coluna com descrição Status de Ordem \n",
    "from pyspark.sql.functions import when\n",
    "\n",
    "orders_df = orders_df.withColumn(\"DescStatus\",when (orders_df.order_status == 1 , \"Pendente\").otherwise(\"Sem Status\"))\n",
    "display(orders_df)"
   ]
  },
  {
   "cell_type": "code",
   "execution_count": 0,
   "metadata": {
    "application/vnd.databricks.v1+cell": {
     "cellMetadata": {
      "byteLimit": 2048000,
      "rowLimit": 10000
     },
     "inputWidgets": {},
     "nuid": "1007d35f-5052-4efe-9099-df0dec82d6f9",
     "showTitle": false,
     "title": ""
    }
   },
   "outputs": [],
   "source": [
    "# inserindo Varias condições (Simulando Status de produção)\n",
    "\"\"\"\n",
    "1= Pendente\n",
    "2= Em produção\n",
    "3= Em rota de entrega\n",
    "4= Finalizado\n",
    "\"\"\"\n",
    "from pyspark.sql.functions import when\n",
    "\n",
    "orders_df = orders_df.withColumn(\"DescStatus\",\\\n",
    "    when (orders_df.order_status == 1 , \"Pendente\")\\\n",
    "    .when (orders_df.order_status == 2 , \"Em produção\")\\\n",
    "    .when (orders_df.order_status == 3 , \"Em rota de entrega\")\\\n",
    "    .otherwise(\"Finalizado\"))\n",
    "\n",
    "display(orders_df)\n",
    "\n"
   ]
  },
  {
   "cell_type": "code",
   "execution_count": 0,
   "metadata": {
    "application/vnd.databricks.v1+cell": {
     "cellMetadata": {
      "byteLimit": 2048000,
      "rowLimit": 10000
     },
     "inputWidgets": {},
     "nuid": "3b418d28-056c-4576-8a88-0337b19f4dea",
     "showTitle": false,
     "title": ""
    }
   },
   "outputs": [],
   "source": [
    "order_items       = spark.read.\\\n",
    "    format(\"csv\")\\\n",
    "    .option(\"header\", \"true\")\\\n",
    "    .option(\"inferSchema\", \"true\")\\\n",
    "    .load(\"/FileStore/tables/Bikes/order_items.csv\")\n",
    "display(order_items)"
   ]
  },
  {
   "cell_type": "code",
   "execution_count": 0,
   "metadata": {
    "application/vnd.databricks.v1+cell": {
     "cellMetadata": {
      "byteLimit": 2048000,
      "rowLimit": 10000
     },
     "inputWidgets": {},
     "nuid": "c7c9cc91-131d-44d0-bcf8-9422f0810d6d",
     "showTitle": false,
     "title": ""
    }
   },
   "outputs": [],
   "source": [
    "# caso for um valor especifico traga uma informação \n",
    "from pyspark.sql.functions import when\n",
    "\n",
    "order_items = order_items.withColumn(\"DescStatus\",when (order_items.list_price == 599.99 , \"valor procurado\").otherwise(\"Não\"))\n",
    "display(order_items)"
   ]
  },
  {
   "cell_type": "code",
   "execution_count": 0,
   "metadata": {
    "application/vnd.databricks.v1+cell": {
     "cellMetadata": {
      "byteLimit": 2048000,
      "rowLimit": 10000
     },
     "inputWidgets": {},
     "nuid": "778a7ee6-7de6-41bd-abc5-314a6b5f29bf",
     "showTitle": false,
     "title": ""
    }
   },
   "outputs": [],
   "source": [
    "#Filtro do Valor procurado\n",
    "display(order_items.filter(order_items.DescStatus ==\"valor procurado\"))"
   ]
  },
  {
   "cell_type": "code",
   "execution_count": 0,
   "metadata": {
    "application/vnd.databricks.v1+cell": {
     "cellMetadata": {
      "byteLimit": 2048000,
      "rowLimit": 10000
     },
     "inputWidgets": {},
     "nuid": "99c0cbe1-6820-4659-b877-eb4748af7ca3",
     "showTitle": false,
     "title": ""
    }
   },
   "outputs": [],
   "source": [
    "#Sumilado  Com varios Valores\n",
    "\"\"\"\n",
    "0 a 500    = Barato\n",
    "501 a 1500 = Médio\n",
    "> 1500     = Caro\n",
    "\"\"\"\n",
    "from pyspark.sql.functions import when\n",
    "Taxa = order_items.withColumn(\"TaxaCliente\",\\\n",
    "    when((order_items.list_price >= 0) & (order_items.list_price <= 500), \"Barato\")\\\n",
    "    .when((order_items.list_price >= 501) & (order_items.list_price <= 1500), \"Médio\")\\\n",
    "    #.when(order_items.list_price > 1500, \"Caro\")\\\n",
    "    .otherwise(\"Caro\"))\n",
    "\n",
    "display(Taxa)\n"
   ]
  },
  {
   "cell_type": "code",
   "execution_count": 0,
   "metadata": {
    "application/vnd.databricks.v1+cell": {
     "cellMetadata": {
      "byteLimit": 2048000,
      "rowLimit": 10000
     },
     "inputWidgets": {},
     "nuid": "ee92c76b-b21e-4cab-b55f-fc60fed08684",
     "showTitle": false,
     "title": ""
    }
   },
   "outputs": [],
   "source": [
    "#Fazendo Filtro para validar \n",
    "display(Taxa.filter( Taxa.TaxaCliente == \"Caro\"))"
   ]
  },
  {
   "cell_type": "markdown",
   "metadata": {
    "application/vnd.databricks.v1+cell": {
     "cellMetadata": {},
     "inputWidgets": {},
     "nuid": "a222fef9-4db1-4869-9cd8-126bf623c3a4",
     "showTitle": false,
     "title": ""
    }
   },
   "source": [
    "###### Comando Sql para Selecionar Colunas e Criar Novas "
   ]
  },
  {
   "cell_type": "code",
   "execution_count": 0,
   "metadata": {
    "application/vnd.databricks.v1+cell": {
     "cellMetadata": {
      "byteLimit": 2048000,
      "rowLimit": 10000
     },
     "inputWidgets": {},
     "nuid": "830b8efe-87d2-4f00-beb5-9cdd8722398e",
     "showTitle": false,
     "title": ""
    }
   },
   "outputs": [],
   "source": [
    "df = spark.read.json(\"dbfs:/FileStore/tables/Anac/V_OCORRENCIA_AMPLA.json\")\n",
    "display(df)"
   ]
  },
  {
   "cell_type": "code",
   "execution_count": 0,
   "metadata": {
    "application/vnd.databricks.v1+cell": {
     "cellMetadata": {
      "byteLimit": 2048000,
      "rowLimit": 10000
     },
     "inputWidgets": {},
     "nuid": "5d9dfb14-bc24-4038-8717-93e9bc0935ca",
     "showTitle": false,
     "title": ""
    }
   },
   "outputs": [],
   "source": [
    "# Inserindo em uma tabela temporaria para \n",
    "df.createOrReplaceTempView(\"Anac\")\n"
   ]
  },
  {
   "cell_type": "code",
   "execution_count": 0,
   "metadata": {
    "application/vnd.databricks.v1+cell": {
     "cellMetadata": {
      "byteLimit": 2048000,
      "rowLimit": 10000
     },
     "inputWidgets": {},
     "nuid": "3656526f-2e0a-49ac-ba04-a35c65398f66",
     "showTitle": false,
     "title": ""
    }
   },
   "outputs": [],
   "source": [
    "print(df.columns)"
   ]
  },
  {
   "cell_type": "code",
   "execution_count": 0,
   "metadata": {
    "application/vnd.databricks.v1+cell": {
     "cellMetadata": {
      "byteLimit": 2048000,
      "rowLimit": 10000
     },
     "inputWidgets": {},
     "nuid": "79e1b3ae-d4c5-42ab-bb17-9fe282e85444",
     "showTitle": false,
     "title": ""
    }
   },
   "outputs": [],
   "source": [
    "#Selecionando algumas colunas\n",
    "Novodf = spark.sql(\n",
    "\"\"\"\n",
    "select\n",
    "Danos_a_Aeronave\n",
    ",Municipio\n",
    ",UF\n",
    " from anac \n",
    "\n",
    "\"\"\"\n",
    ")\n",
    "display(Novodf)"
   ]
  },
  {
   "cell_type": "code",
   "execution_count": 0,
   "metadata": {
    "application/vnd.databricks.v1+cell": {
     "cellMetadata": {
      "byteLimit": 2048000,
      "rowLimit": 10000
     },
     "inputWidgets": {},
     "nuid": "f383ffbd-e5df-41b9-8e8b-9e290d74cd40",
     "showTitle": false,
     "title": ""
    }
   },
   "outputs": [],
   "source": [
    "#Coluna condicional  \"MG\",\"SP\",\"RJ\",\"ES\"=  \"Sudeste\"\n",
    "Novodf = spark.sql(\n",
    "\"\"\"\n",
    "select\n",
    "Danos_a_Aeronave\n",
    ",Municipio\n",
    ",UF\n",
    ",Case\n",
    "   when UF in ('MG','SP','RJ','ES')  then 'Sudeste'\n",
    "   else 'Sem Regiao'\n",
    "   end as Regiao\n",
    "\n",
    "from anac \n",
    "\n",
    "\"\"\"\n",
    ")\n",
    "display(Novodf)"
   ]
  },
  {
   "cell_type": "code",
   "execution_count": 0,
   "metadata": {
    "application/vnd.databricks.v1+cell": {
     "cellMetadata": {
      "byteLimit": 2048000,
      "rowLimit": 10000
     },
     "inputWidgets": {},
     "nuid": "eda0157b-8002-4d18-bda4-f0e730e06bfa",
     "showTitle": false,
     "title": ""
    }
   },
   "outputs": [],
   "source": [
    "#Coluna condicional  \"MG\",\"SP\",\"RJ\",\"ES\"=  \"Sudeste\" e 'PR',RS,SC = Sul \n",
    "\n",
    "Novodf = spark.sql(\n",
    "\"\"\"\n",
    "select\n",
    "Danos_a_Aeronave\n",
    ",Municipio\n",
    ",UF\n",
    ",Case\n",
    "   when UF in ('MG','SP','RJ','ES')  then 'Sudeste'\n",
    "   when UF in ('PR','RS','SC')  then 'Sul'\n",
    "   else 'Sem Regiao'\n",
    "   end as Regiao\n",
    "\n",
    "from anac \n",
    "\n",
    "\"\"\"\n",
    ")\n",
    "display(Novodf)"
   ]
  },
  {
   "cell_type": "code",
   "execution_count": 0,
   "metadata": {
    "application/vnd.databricks.v1+cell": {
     "cellMetadata": {
      "byteLimit": 2048000,
      "rowLimit": 10000
     },
     "inputWidgets": {},
     "nuid": "d0038dd4-e9f4-4363-8acd-c6d3b5ec575d",
     "showTitle": false,
     "title": ""
    }
   },
   "outputs": [],
   "source": [
    "#Filtro para Validar no Df e voce faça para os demais para treinar (pode ser filtro na consulta tambem )\n",
    "\"\"\"\n",
    "Case= Caso\n",
    "when= Quando\n",
    "else= Senão\n",
    "end= Fim \n",
    "\"\"\"\n",
    "display(Novodf.filter(Novodf.Regiao ==  'Sudeste' ))\n",
    "\n"
   ]
  },
  {
   "cell_type": "markdown",
   "metadata": {
    "application/vnd.databricks.v1+cell": {
     "cellMetadata": {},
     "inputWidgets": {},
     "nuid": "2be2f935-1e56-4891-b7ba-f00e68286de3",
     "showTitle": false,
     "title": ""
    }
   },
   "source": [
    "######Criando coluna condicional de Valor "
   ]
  },
  {
   "cell_type": "code",
   "execution_count": 0,
   "metadata": {
    "application/vnd.databricks.v1+cell": {
     "cellMetadata": {
      "byteLimit": 2048000,
      "rowLimit": 10000
     },
     "inputWidgets": {},
     "nuid": "d9a18530-3e68-4cf0-ae52-46401ed4be99",
     "showTitle": false,
     "title": ""
    }
   },
   "outputs": [],
   "source": [
    "order_items       = spark.read.\\\n",
    "    format(\"csv\")\\\n",
    "    .option(\"header\", \"true\")\\\n",
    "    .option(\"inferSchema\", \"true\")\\\n",
    "    .load(\"/FileStore/tables/Bikes/order_items.csv\")\n",
    "display(order_items)"
   ]
  },
  {
   "cell_type": "code",
   "execution_count": 0,
   "metadata": {
    "application/vnd.databricks.v1+cell": {
     "cellMetadata": {
      "byteLimit": 2048000,
      "rowLimit": 10000
     },
     "inputWidgets": {},
     "nuid": "b1d53b24-f2c9-4344-b08e-04273211cd1f",
     "showTitle": false,
     "title": ""
    }
   },
   "outputs": [],
   "source": [
    "#Inserindo em tabela temporaria para rodar SQL\n",
    "order_items.createOrReplaceTempView(\"Vendas\")"
   ]
  },
  {
   "cell_type": "code",
   "execution_count": 0,
   "metadata": {
    "application/vnd.databricks.v1+cell": {
     "cellMetadata": {
      "byteLimit": 2048000,
      "rowLimit": 10000
     },
     "inputWidgets": {},
     "nuid": "a99a2fc1-fc9e-4fb0-ba57-50b120d5b253",
     "showTitle": false,
     "title": ""
    }
   },
   "outputs": [],
   "source": [
    "# Consulta Para identificar tipo de cliente a partir da quantidade de compra \n",
    "Testevendas = spark.sql(\n",
    "\"\"\"\n",
    "select *\n",
    ",Case \n",
    "    when quantity = 1 then 'Mâo de Vaca'\n",
    "    --when quantity = 2 then 'Top'\n",
    "    else 'Top'\n",
    "    end TipoCliente\n",
    "from Vendas\n",
    "\"\"\"\n",
    "\n",
    ")\n",
    "display(Testevendas)"
   ]
  },
  {
   "cell_type": "code",
   "execution_count": 0,
   "metadata": {
    "application/vnd.databricks.v1+cell": {
     "cellMetadata": {
      "byteLimit": 2048000,
      "rowLimit": 10000
     },
     "inputWidgets": {},
     "nuid": "2b11f48f-e7a1-4890-be1c-208ca7177e95",
     "showTitle": false,
     "title": ""
    }
   },
   "outputs": [],
   "source": [
    "#Classificação por faixa de Preço\n",
    "\"\"\"\n",
    "0 a 500    = Barato\n",
    "501 a 1500 = Médio\n",
    "> 1500     = Caro\n",
    "\"\"\"\n",
    "\n",
    "Testevendas = spark.sql(\n",
    "\"\"\"\n",
    "select *\n",
    ", case \n",
    "    when list_price between   0 and 500 then 'Barato'\n",
    "    when list_price between 501 and 1500 then 'Médio'\n",
    "    when list_price > 1500 then 'Médio'\n",
    "    else 'Sem Perfil' \n",
    "    end as PerfilProduto\n",
    " from Vendas\n",
    "\"\"\"\n",
    "\n",
    ")\n",
    "display(Testevendas)"
   ]
  }
 ],
 "metadata": {
  "application/vnd.databricks.v1+notebook": {
   "dashboards": [],
   "language": "python",
   "notebookMetadata": {
    "pythonIndentUnit": 4
   },
   "notebookName": "11. Manipulação de Colunas",
   "widgets": {}
  }
 },
 "nbformat": 4,
 "nbformat_minor": 0
}
