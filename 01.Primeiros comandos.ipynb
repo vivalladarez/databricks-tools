{
 "cells": [
  {
   "cell_type": "markdown",
   "metadata": {
    "application/vnd.databricks.v1+cell": {
     "cellMetadata": {},
     "inputWidgets": {},
     "nuid": "584edacd-b1bb-4010-84d5-03b5553e15d4",
     "showTitle": false,
     "title": ""
    }
   },
   "source": [
    "##### DBFS e dbutils Documentação \n",
    "https://docs.databricks.com/pt/dbfs/index.html\n",
    "\n",
    "https://docs.databricks.com/pt/dev-tools/databricks-utils.html"
   ]
  },
  {
   "cell_type": "markdown",
   "metadata": {
    "application/vnd.databricks.v1+cell": {
     "cellMetadata": {},
     "inputWidgets": {},
     "nuid": "34a29075-5f8d-41d5-a990-bdf3777710c8",
     "showTitle": false,
     "title": ""
    }
   },
   "source": [
    "##### Arquitetura azure\n",
    "\n",
    "https://learn.microsoft.com/pt-br/azure/architecture/solution-ideas/articles/azure-databricks-modern-analytics-architecture\n",
    "\n",
    "https://learn.microsoft.com/pt-br/azure/architecture/solution-ideas/articles/ingest-etl-stream-with-adb"
   ]
  },
  {
   "cell_type": "code",
   "execution_count": 0,
   "metadata": {
    "application/vnd.databricks.v1+cell": {
     "cellMetadata": {},
     "inputWidgets": {},
     "nuid": "d1385c0a-3dcd-448d-be3c-1267572bde45",
     "showTitle": false,
     "title": ""
    }
   },
   "outputs": [],
   "source": [
    "#carregar csv de clientes primeiro para demosntrar , depois carregar bikes no lugar errado dem oganização depois apagar e carregar certo e seguir com curso "
   ]
  },
  {
   "cell_type": "code",
   "execution_count": 0,
   "metadata": {
    "application/vnd.databricks.v1+cell": {
     "cellMetadata": {
      "byteLimit": 2048000,
      "rowLimit": 10000
     },
     "inputWidgets": {},
     "nuid": "69242a8b-cd0e-414e-a149-075bd6e210b0",
     "showTitle": false,
     "title": ""
    }
   },
   "outputs": [],
   "source": [
    "/dbfs/FileStore/tables/Clientes.csv"
   ]
  },
  {
   "cell_type": "code",
   "execution_count": 0,
   "metadata": {
    "application/vnd.databricks.v1+cell": {
     "cellMetadata": {
      "byteLimit": 2048000,
      "rowLimit": 10000
     },
     "inputWidgets": {},
     "nuid": "1ab4bead-6db9-489f-9b0a-772d75e7f2d4",
     "showTitle": false,
     "title": ""
    }
   },
   "outputs": [],
   "source": [
    "dbutils.help()"
   ]
  },
  {
   "cell_type": "code",
   "execution_count": 0,
   "metadata": {
    "application/vnd.databricks.v1+cell": {
     "cellMetadata": {
      "byteLimit": 2048000,
      "rowLimit": 10000
     },
     "inputWidgets": {},
     "nuid": "1c0220ef-bec2-4a41-aa30-09420f558d39",
     "showTitle": false,
     "title": ""
    }
   },
   "outputs": [],
   "source": [
    "dbutils.fs.help()"
   ]
  },
  {
   "cell_type": "code",
   "execution_count": 0,
   "metadata": {
    "application/vnd.databricks.v1+cell": {
     "cellMetadata": {
      "byteLimit": 2048000,
      "rowLimit": 10000
     },
     "inputWidgets": {},
     "nuid": "fa9b116e-26e7-4435-b6bd-bd9d34c543b5",
     "showTitle": false,
     "title": ""
    }
   },
   "outputs": [],
   "source": [
    "\n",
    "#Traduzido\n"
   ]
  },
  {
   "cell_type": "code",
   "execution_count": 0,
   "metadata": {
    "application/vnd.databricks.v1+cell": {
     "cellMetadata": {
      "byteLimit": 2048000,
      "rowLimit": 10000
     },
     "inputWidgets": {},
     "nuid": "0f6b9053-6f8c-4c7e-a8df-2fe4386aab28",
     "showTitle": false,
     "title": ""
    }
   },
   "outputs": [],
   "source": [
    "fsutils\n",
    "cp(from: String, to: String, recurse: boolean = false): boolean -> Copia um arquivo ou diretório, possivelmente entre sistemas de arquivos\n",
    "head(file: String, maxBytes: int = 65536): String -> Retorna até os primeiros bytes 'maxBytes' do arquivo fornecido como uma String codificada em UTF-8\n",
    "ls(dir: String): Seq -> Lista o conteúdo de um diretório\n",
    "mkdirs(dir: String): boolean -> Cria o diretório fornecido se ele não existir, criando também quaisquer diretórios pais necessários\n",
    "mv(from: String, to: String, recurse: boolean = false): boolean -> Move um arquivo ou diretório, possivelmente entre sistemas de arquivos\n",
    "put(arquivo: String, conteúdo: String, overwrite: boolean = false): boolean -> Grava a String fornecida em um arquivo, codificado em UTF-8\n",
    "rm(dir: String, recurse: boolean = false): boolean -> Remove um arquivo ou diretório"
   ]
  },
  {
   "cell_type": "code",
   "execution_count": 0,
   "metadata": {
    "application/vnd.databricks.v1+cell": {
     "cellMetadata": {
      "byteLimit": 2048000,
      "rowLimit": 10000
     },
     "inputWidgets": {},
     "nuid": "da35260b-0c61-41bd-ae21-568567584b80",
     "showTitle": false,
     "title": ""
    }
   },
   "outputs": [],
   "source": [
    "dbutils.fs.ls('/')"
   ]
  },
  {
   "cell_type": "code",
   "execution_count": 0,
   "metadata": {
    "application/vnd.databricks.v1+cell": {
     "cellMetadata": {
      "byteLimit": 2048000,
      "rowLimit": 10000
     },
     "inputWidgets": {},
     "nuid": "d1c51bdd-31a0-4acd-8fe9-30878a03e52f",
     "showTitle": false,
     "title": ""
    }
   },
   "outputs": [],
   "source": [
    "display(dbutils.fs.ls('/FileStore/tables'))"
   ]
  },
  {
   "cell_type": "code",
   "execution_count": 0,
   "metadata": {
    "application/vnd.databricks.v1+cell": {
     "cellMetadata": {
      "byteLimit": 2048000,
      "rowLimit": 10000
     },
     "inputWidgets": {},
     "nuid": "9611a0e7-3e8c-491d-8a9a-182d857a28a4",
     "showTitle": false,
     "title": ""
    }
   },
   "outputs": [],
   "source": [
    "dbutils.fs.head('/FileStore/tables/Clientes.csv')"
   ]
  },
  {
   "cell_type": "code",
   "execution_count": 0,
   "metadata": {
    "application/vnd.databricks.v1+cell": {
     "cellMetadata": {
      "byteLimit": 2048000,
      "rowLimit": 10000
     },
     "inputWidgets": {},
     "nuid": "541510c2-05e9-43f2-a801-d56d91fb08d8",
     "showTitle": false,
     "title": ""
    }
   },
   "outputs": [],
   "source": [
    "# inserir varios dados em pasta errada como ajustar \n",
    "display(dbutils.fs.ls('/FileStore/'))"
   ]
  },
  {
   "cell_type": "code",
   "execution_count": 0,
   "metadata": {
    "application/vnd.databricks.v1+cell": {
     "cellMetadata": {
      "byteLimit": 2048000,
      "rowLimit": 10000
     },
     "inputWidgets": {},
     "nuid": "660a651c-a03b-4b13-be2f-c63596fa77c4",
     "showTitle": false,
     "title": ""
    }
   },
   "outputs": [],
   "source": [
    "# Criando uma lista e deletando arquivos\n",
    "# Lista de caminhos de arquivo a serem excluídos\n",
    "excluir = [\n",
    "    \"/FileStore/categories.csv\",\n",
    "    \"/FileStore/customers.csv\",\n",
    "    \"/FileStore/order_items.csv\",\n",
    "    \"/FileStore/orders.csv\",\n",
    "    \"/FileStore/products.csv\",\n",
    "    \"/FileStore/staffs.csv\",\n",
    "    \"/FileStore/stocks.csv\",\n",
    "    \"/FileStore/stores.csv\",\n",
    "]\n",
    "\n",
    "# for (passar por todos arquivos)  e excluir\n",
    "for apagar_arquivos in excluir:\n",
    "    dbutils.fs.rm(apagar_arquivos)"
   ]
  },
  {
   "cell_type": "code",
   "execution_count": 0,
   "metadata": {
    "application/vnd.databricks.v1+cell": {
     "cellMetadata": {
      "byteLimit": 2048000,
      "rowLimit": 10000
     },
     "inputWidgets": {},
     "nuid": "8dc2f8a1-d703-46c5-9b9d-2696bdaab7a3",
     "showTitle": false,
     "title": ""
    }
   },
   "outputs": [],
   "source": [
    "\n",
    "#Verificando tabelas Para criar novas pastas\n",
    "display(dbutils.fs.ls('/FileStore/tables'))\n",
    "\n",
    "\n"
   ]
  },
  {
   "cell_type": "code",
   "execution_count": 0,
   "metadata": {
    "application/vnd.databricks.v1+cell": {
     "cellMetadata": {
      "byteLimit": 2048000,
      "rowLimit": 10000
     },
     "inputWidgets": {},
     "nuid": "3c401244-8834-464e-8a7b-6533eb87bd8b",
     "showTitle": false,
     "title": ""
    }
   },
   "outputs": [],
   "source": [
    "#criando nova pasta \n",
    "dbutils.fs.mkdirs('/FileStore/tables/Bikes')\n"
   ]
  },
  {
   "cell_type": "code",
   "execution_count": 0,
   "metadata": {
    "application/vnd.databricks.v1+cell": {
     "cellMetadata": {
      "byteLimit": 2048000,
      "rowLimit": 10000
     },
     "inputWidgets": {},
     "nuid": "4ccb9181-e551-44d2-8795-ed9d0b3ea51c",
     "showTitle": false,
     "title": ""
    }
   },
   "outputs": [],
   "source": [
    "display(dbutils.fs.ls('/FileStore/tables/Bikes'))\n"
   ]
  },
  {
   "cell_type": "markdown",
   "metadata": {
    "application/vnd.databricks.v1+cell": {
     "cellMetadata": {},
     "inputWidgets": {},
     "nuid": "49b8ed21-b1b5-4945-ad37-457ade128b0d",
     "showTitle": false,
     "title": ""
    }
   },
   "source": [
    "##### Visualizando os dados"
   ]
  },
  {
   "cell_type": "code",
   "execution_count": 0,
   "metadata": {
    "application/vnd.databricks.v1+cell": {
     "cellMetadata": {},
     "inputWidgets": {},
     "nuid": "d2bc5112-61bf-4448-ba34-23cf5a2eb306",
     "showTitle": false,
     "title": ""
    }
   },
   "outputs": [],
   "source": [
    "dbfs:/FileStore/tables/Bikes/customers.csv\n",
    "/dbfs/FileStore/tables/Bikes/customers.csv"
   ]
  },
  {
   "cell_type": "code",
   "execution_count": 0,
   "metadata": {
    "application/vnd.databricks.v1+cell": {
     "cellMetadata": {
      "byteLimit": 2048000,
      "implicitDf": true,
      "rowLimit": 10000
     },
     "inputWidgets": {},
     "nuid": "28e7dbc6-dabd-4786-a71a-752de4581c48",
     "showTitle": false,
     "title": ""
    }
   },
   "outputs": [],
   "source": [
    "# Ler o arquivo CSV e criar um DataFrame\n",
    "spark.read.csv(\"/FileStore/tables/Bikes/customers.csv\", header=True, inferSchema=True)\n"
   ]
  },
  {
   "cell_type": "code",
   "execution_count": 0,
   "metadata": {
    "application/vnd.databricks.v1+cell": {
     "cellMetadata": {
      "byteLimit": 2048000,
      "rowLimit": 10000
     },
     "inputWidgets": {},
     "nuid": "014e51c6-8ed1-4d97-9227-a2cfb5caad70",
     "showTitle": false,
     "title": ""
    }
   },
   "outputs": [],
   "source": [
    "display(spark.read.csv(\"/FileStore/tables/Bikes/customers.csv\", header=True, inferSchema=True))"
   ]
  },
  {
   "cell_type": "code",
   "execution_count": 0,
   "metadata": {
    "application/vnd.databricks.v1+cell": {
     "cellMetadata": {
      "byteLimit": 2048000,
      "rowLimit": 10000
     },
     "inputWidgets": {},
     "nuid": "8731203b-7803-4fe9-b3f2-fa8194cbbcab",
     "showTitle": false,
     "title": ""
    }
   },
   "outputs": [],
   "source": [
    "display(spark.read.csv(\"dbfs:/FileStore/tables/Bikes/customers.csv\", header=True, inferSchema=True))\n",
    "#header = primeira linha é o cabeçalho?\n",
    "#inferSchema = inserir automaticamente os tipos de dados(numero,texto,data etc....)"
   ]
  },
  {
   "cell_type": "code",
   "execution_count": 0,
   "metadata": {
    "application/vnd.databricks.v1+cell": {
     "cellMetadata": {
      "byteLimit": 2048000,
      "rowLimit": 10000
     },
     "inputWidgets": {},
     "nuid": "e63e9bdd-6fc8-4c42-975f-8c5cc1feaf1d",
     "showTitle": false,
     "title": ""
    }
   },
   "outputs": [],
   "source": [
    "#salvando dados em um DF(DataFlame)\n",
    "df = spark.read.csv(\"dbfs:/FileStore/tables/Bikes/customers.csv\", header=True, inferSchema=True)"
   ]
  },
  {
   "cell_type": "markdown",
   "metadata": {
    "application/vnd.databricks.v1+cell": {
     "cellMetadata": {},
     "inputWidgets": {},
     "nuid": "ec4ec3b6-91e9-4ea1-b34b-ed5f5b1ea93b",
     "showTitle": false,
     "title": ""
    }
   },
   "source": [
    "#####Tipos de visualizações "
   ]
  },
  {
   "cell_type": "code",
   "execution_count": 0,
   "metadata": {
    "application/vnd.databricks.v1+cell": {
     "cellMetadata": {
      "byteLimit": 2048000,
      "rowLimit": 10000
     },
     "inputWidgets": {},
     "nuid": "53b07047-8858-4c9f-9e6d-738e1161adce",
     "showTitle": false,
     "title": ""
    }
   },
   "outputs": [],
   "source": [
    "df"
   ]
  },
  {
   "cell_type": "code",
   "execution_count": 0,
   "metadata": {
    "application/vnd.databricks.v1+cell": {
     "cellMetadata": {
      "byteLimit": 2048000,
      "rowLimit": 10000
     },
     "inputWidgets": {},
     "nuid": "f5449520-37de-40c6-95df-528020019f69",
     "showTitle": false,
     "title": ""
    }
   },
   "outputs": [],
   "source": [
    "df.show()"
   ]
  },
  {
   "cell_type": "code",
   "execution_count": 0,
   "metadata": {
    "application/vnd.databricks.v1+cell": {
     "cellMetadata": {
      "byteLimit": 2048000,
      "rowLimit": 10000
     },
     "inputWidgets": {},
     "nuid": "b4b8a3d2-ce5d-4aa5-bf91-90ebacfec096",
     "showTitle": false,
     "title": ""
    }
   },
   "outputs": [],
   "source": [
    "display(df)"
   ]
  },
  {
   "cell_type": "code",
   "execution_count": 0,
   "metadata": {
    "application/vnd.databricks.v1+cell": {
     "cellMetadata": {
      "byteLimit": 2048000,
      "rowLimit": 10000
     },
     "inputWidgets": {},
     "nuid": "576ed778-f49c-43ae-b05a-7477e686f84b",
     "showTitle": false,
     "title": ""
    }
   },
   "outputs": [],
   "source": [
    "#Ver algumas colunas sem salvar em um DF\n",
    "colunas = [\"customer_id\", \"first_name\", \"email\", \"state\"]\n",
    "display(df.select(colunas))"
   ]
  },
  {
   "cell_type": "code",
   "execution_count": 0,
   "metadata": {
    "application/vnd.databricks.v1+cell": {
     "cellMetadata": {
      "byteLimit": 2048000,
      "rowLimit": 10000
     },
     "inputWidgets": {},
     "nuid": "95e185a5-f7cc-4d14-9f58-47cc4508d23e",
     "showTitle": false,
     "title": ""
    }
   },
   "outputs": [],
   "source": [
    "df.select('customer_id','email').show()"
   ]
  },
  {
   "cell_type": "code",
   "execution_count": 0,
   "metadata": {
    "application/vnd.databricks.v1+cell": {
     "cellMetadata": {
      "byteLimit": 2048000,
      "rowLimit": 10000
     },
     "inputWidgets": {},
     "nuid": "c7ece3c8-656f-45a8-b612-cbaf6fa09c6a",
     "showTitle": false,
     "title": ""
    }
   },
   "outputs": [],
   "source": [
    "display(df.select('customer_id','email'))   "
   ]
  },
  {
   "cell_type": "code",
   "execution_count": 0,
   "metadata": {
    "application/vnd.databricks.v1+cell": {
     "cellMetadata": {
      "byteLimit": 2048000,
      "rowLimit": 10000
     },
     "inputWidgets": {},
     "nuid": "23740524-21eb-4ec3-88c5-7c7451f44a56",
     "showTitle": false,
     "title": ""
    }
   },
   "outputs": [],
   "source": [
    "#salvando em um novo DF ou subscrevendo\n",
    "colunas = [\"customer_id\", \"first_name\", \"email\", \"state\"]\n",
    "dfFiltrado = df.select(colunas)"
   ]
  },
  {
   "cell_type": "code",
   "execution_count": 0,
   "metadata": {
    "application/vnd.databricks.v1+cell": {
     "cellMetadata": {
      "byteLimit": 2048000,
      "rowLimit": 10000
     },
     "inputWidgets": {},
     "nuid": "2159f5ac-3215-433e-bf5b-c6b8658f9cd2",
     "showTitle": false,
     "title": ""
    }
   },
   "outputs": [],
   "source": [
    "dfFiltrado.show(5)"
   ]
  },
  {
   "cell_type": "code",
   "execution_count": 0,
   "metadata": {
    "application/vnd.databricks.v1+cell": {
     "cellMetadata": {
      "byteLimit": 2048000,
      "rowLimit": 10000
     },
     "inputWidgets": {},
     "nuid": "db23d521-f8d0-4671-9364-365af98d7ba4",
     "showTitle": false,
     "title": ""
    }
   },
   "outputs": [],
   "source": [
    "df.show(5)"
   ]
  },
  {
   "cell_type": "markdown",
   "metadata": {
    "application/vnd.databricks.v1+cell": {
     "cellMetadata": {},
     "inputWidgets": {},
     "nuid": "7d692527-ecaf-4d70-b9ac-b3df2b7a1bb0",
     "showTitle": false,
     "title": ""
    }
   },
   "source": [
    "Sobrescrevendo DF"
   ]
  },
  {
   "cell_type": "code",
   "execution_count": 0,
   "metadata": {
    "application/vnd.databricks.v1+cell": {
     "cellMetadata": {
      "byteLimit": 2048000,
      "rowLimit": 10000
     },
     "inputWidgets": {},
     "nuid": "25b6ff45-c450-4595-b905-cc90599bc84d",
     "showTitle": false,
     "title": ""
    }
   },
   "outputs": [],
   "source": [
    "df =  df.select('first_name','email','city')"
   ]
  },
  {
   "cell_type": "code",
   "execution_count": 0,
   "metadata": {
    "application/vnd.databricks.v1+cell": {
     "cellMetadata": {
      "byteLimit": 2048000,
      "rowLimit": 10000
     },
     "inputWidgets": {},
     "nuid": "5fdcc1b7-7b8a-4498-9722-f2f5f8ebdfdd",
     "showTitle": false,
     "title": ""
    }
   },
   "outputs": [],
   "source": [
    "df.show(5)"
   ]
  },
  {
   "cell_type": "markdown",
   "metadata": {
    "application/vnd.databricks.v1+cell": {
     "cellMetadata": {},
     "inputWidgets": {},
     "nuid": "2665b6e7-8302-460a-b22c-497f89433e60",
     "showTitle": false,
     "title": ""
    }
   },
   "source": [
    "##### Localizando Base de Dados Para Treino\n",
    "\n",
    "https://www.kaggle.com"
   ]
  },
  {
   "cell_type": "code",
   "execution_count": 0,
   "metadata": {
    "application/vnd.databricks.v1+cell": {
     "cellMetadata": {
      "byteLimit": 2048000,
      "rowLimit": 10000
     },
     "inputWidgets": {},
     "nuid": "49fcafcc-4cfb-4376-a1a6-d799cec3e13a",
     "showTitle": false,
     "title": ""
    }
   },
   "outputs": [
    {
     "output_type": "stream",
     "name": "stdout",
     "output_type": "stream",
     "text": [
      "Out[49]: [FileInfo(path='dbfs:/FileStore/', name='FileStore/', size=0, modificationTime=0),\n FileInfo(path='dbfs:/databricks-datasets/', name='databricks-datasets/', size=0, modificationTime=0),\n FileInfo(path='dbfs:/databricks-results/', name='databricks-results/', size=0, modificationTime=0)]"
     ]
    }
   ],
   "source": [
    "dbutils.fs.ls('/')"
   ]
  },
  {
   "cell_type": "code",
   "execution_count": 0,
   "metadata": {
    "application/vnd.databricks.v1+cell": {
     "cellMetadata": {
      "byteLimit": 2048000,
      "rowLimit": 10000
     },
     "inputWidgets": {},
     "nuid": "9f31f20b-a89b-4261-80c5-403ef8e533d3",
     "showTitle": false,
     "title": ""
    }
   },
   "outputs": [
    {
     "output_type": "stream",
     "name": "stdout",
     "output_type": "stream",
     "text": [
      "Out[50]: [FileInfo(path='dbfs:/databricks-datasets/COVID/', name='COVID/', size=0, modificationTime=0),\n FileInfo(path='dbfs:/databricks-datasets/README.md', name='README.md', size=976, modificationTime=1532468253000),\n FileInfo(path='dbfs:/databricks-datasets/Rdatasets/', name='Rdatasets/', size=0, modificationTime=0),\n FileInfo(path='dbfs:/databricks-datasets/SPARK_README.md', name='SPARK_README.md', size=3359, modificationTime=1455043490000),\n FileInfo(path='dbfs:/databricks-datasets/adult/', name='adult/', size=0, modificationTime=0),\n FileInfo(path='dbfs:/databricks-datasets/airlines/', name='airlines/', size=0, modificationTime=0),\n FileInfo(path='dbfs:/databricks-datasets/amazon/', name='amazon/', size=0, modificationTime=0),\n FileInfo(path='dbfs:/databricks-datasets/asa/', name='asa/', size=0, modificationTime=0),\n FileInfo(path='dbfs:/databricks-datasets/atlas_higgs/', name='atlas_higgs/', size=0, modificationTime=0),\n FileInfo(path='dbfs:/databricks-datasets/bikeSharing/', name='bikeSharing/', size=0, modificationTime=0),\n FileInfo(path='dbfs:/databricks-datasets/cctvVideos/', name='cctvVideos/', size=0, modificationTime=0),\n FileInfo(path='dbfs:/databricks-datasets/credit-card-fraud/', name='credit-card-fraud/', size=0, modificationTime=0),\n FileInfo(path='dbfs:/databricks-datasets/cs100/', name='cs100/', size=0, modificationTime=0),\n FileInfo(path='dbfs:/databricks-datasets/cs110x/', name='cs110x/', size=0, modificationTime=0),\n FileInfo(path='dbfs:/databricks-datasets/cs190/', name='cs190/', size=0, modificationTime=0),\n FileInfo(path='dbfs:/databricks-datasets/data.gov/', name='data.gov/', size=0, modificationTime=0),\n FileInfo(path='dbfs:/databricks-datasets/definitive-guide/', name='definitive-guide/', size=0, modificationTime=0),\n FileInfo(path='dbfs:/databricks-datasets/delta-sharing/', name='delta-sharing/', size=0, modificationTime=0),\n FileInfo(path='dbfs:/databricks-datasets/flights/', name='flights/', size=0, modificationTime=0),\n FileInfo(path='dbfs:/databricks-datasets/flower_photos/', name='flower_photos/', size=0, modificationTime=0),\n FileInfo(path='dbfs:/databricks-datasets/flowers/', name='flowers/', size=0, modificationTime=0),\n FileInfo(path='dbfs:/databricks-datasets/genomics/', name='genomics/', size=0, modificationTime=0),\n FileInfo(path='dbfs:/databricks-datasets/hail/', name='hail/', size=0, modificationTime=0),\n FileInfo(path='dbfs:/databricks-datasets/identifying-campaign-effectiveness/', name='identifying-campaign-effectiveness/', size=0, modificationTime=0),\n FileInfo(path='dbfs:/databricks-datasets/iot/', name='iot/', size=0, modificationTime=0),\n FileInfo(path='dbfs:/databricks-datasets/iot-stream/', name='iot-stream/', size=0, modificationTime=0),\n FileInfo(path='dbfs:/databricks-datasets/learning-spark/', name='learning-spark/', size=0, modificationTime=0),\n FileInfo(path='dbfs:/databricks-datasets/learning-spark-v2/', name='learning-spark-v2/', size=0, modificationTime=0),\n FileInfo(path='dbfs:/databricks-datasets/lending-club-loan-stats/', name='lending-club-loan-stats/', size=0, modificationTime=0),\n FileInfo(path='dbfs:/databricks-datasets/med-images/', name='med-images/', size=0, modificationTime=0),\n FileInfo(path='dbfs:/databricks-datasets/media/', name='media/', size=0, modificationTime=0),\n FileInfo(path='dbfs:/databricks-datasets/mnist-digits/', name='mnist-digits/', size=0, modificationTime=0),\n FileInfo(path='dbfs:/databricks-datasets/news20.binary/', name='news20.binary/', size=0, modificationTime=0),\n FileInfo(path='dbfs:/databricks-datasets/nyctaxi/', name='nyctaxi/', size=0, modificationTime=0),\n FileInfo(path='dbfs:/databricks-datasets/nyctaxi-with-zipcodes/', name='nyctaxi-with-zipcodes/', size=0, modificationTime=0),\n FileInfo(path='dbfs:/databricks-datasets/online_retail/', name='online_retail/', size=0, modificationTime=0),\n FileInfo(path='dbfs:/databricks-datasets/overlap-join/', name='overlap-join/', size=0, modificationTime=0),\n FileInfo(path='dbfs:/databricks-datasets/power-plant/', name='power-plant/', size=0, modificationTime=0),\n FileInfo(path='dbfs:/databricks-datasets/retail-org/', name='retail-org/', size=0, modificationTime=0),\n FileInfo(path='dbfs:/databricks-datasets/rwe/', name='rwe/', size=0, modificationTime=0),\n FileInfo(path='dbfs:/databricks-datasets/sai-summit-2019-sf/', name='sai-summit-2019-sf/', size=0, modificationTime=0),\n FileInfo(path='dbfs:/databricks-datasets/sample_logs/', name='sample_logs/', size=0, modificationTime=0),\n FileInfo(path='dbfs:/databricks-datasets/samples/', name='samples/', size=0, modificationTime=0),\n FileInfo(path='dbfs:/databricks-datasets/sfo_customer_survey/', name='sfo_customer_survey/', size=0, modificationTime=0),\n FileInfo(path='dbfs:/databricks-datasets/sms_spam_collection/', name='sms_spam_collection/', size=0, modificationTime=0),\n FileInfo(path='dbfs:/databricks-datasets/songs/', name='songs/', size=0, modificationTime=0),\n FileInfo(path='dbfs:/databricks-datasets/structured-streaming/', name='structured-streaming/', size=0, modificationTime=0),\n FileInfo(path='dbfs:/databricks-datasets/timeseries/', name='timeseries/', size=0, modificationTime=0),\n FileInfo(path='dbfs:/databricks-datasets/tpch/', name='tpch/', size=0, modificationTime=0),\n FileInfo(path='dbfs:/databricks-datasets/travel_recommendations_realtime/', name='travel_recommendations_realtime/', size=0, modificationTime=0),\n FileInfo(path='dbfs:/databricks-datasets/warmup/', name='warmup/', size=0, modificationTime=0),\n FileInfo(path='dbfs:/databricks-datasets/weather/', name='weather/', size=0, modificationTime=0),\n FileInfo(path='dbfs:/databricks-datasets/wiki/', name='wiki/', size=0, modificationTime=0),\n FileInfo(path='dbfs:/databricks-datasets/wikipedia-datasets/', name='wikipedia-datasets/', size=0, modificationTime=0),\n FileInfo(path='dbfs:/databricks-datasets/wine-quality/', name='wine-quality/', size=0, modificationTime=0)]"
     ]
    }
   ],
   "source": [
    "dbutils.fs.ls('/databricks-datasets')"
   ]
  },
  {
   "cell_type": "code",
   "execution_count": 0,
   "metadata": {
    "application/vnd.databricks.v1+cell": {
     "cellMetadata": {
      "byteLimit": 2048000,
      "rowLimit": 10000
     },
     "inputWidgets": {},
     "nuid": "60ebb0ce-2799-46e9-b797-ecca4b17dbde",
     "showTitle": false,
     "title": ""
    }
   },
   "outputs": [
    {
     "output_type": "display_data",
     "data": {
      "text/html": [
       "<style scoped>\n",
       "  .table-result-container {\n",
       "    max-height: 300px;\n",
       "    overflow: auto;\n",
       "  }\n",
       "  table, th, td {\n",
       "    border: 1px solid black;\n",
       "    border-collapse: collapse;\n",
       "  }\n",
       "  th, td {\n",
       "    padding: 5px;\n",
       "  }\n",
       "  th {\n",
       "    text-align: left;\n",
       "  }\n",
       "</style><div class='table-result-container'><table class='table-result'><thead style='background-color: white'><tr><th>path</th><th>name</th><th>size</th><th>modificationTime</th></tr></thead><tbody><tr><td>dbfs:/databricks-datasets/wine-quality/README.md</td><td>README.md</td><td>1066</td><td>1594262736000</td></tr><tr><td>dbfs:/databricks-datasets/wine-quality/winequality-red.csv</td><td>winequality-red.csv</td><td>84199</td><td>1594262736000</td></tr><tr><td>dbfs:/databricks-datasets/wine-quality/winequality-white.csv</td><td>winequality-white.csv</td><td>264426</td><td>1594262736000</td></tr></tbody></table></div>"
      ]
     },
     "metadata": {
      "application/vnd.databricks.v1+output": {
       "addedWidgets": {},
       "aggData": [],
       "aggError": "",
       "aggOverflow": false,
       "aggSchema": [],
       "aggSeriesLimitReached": false,
       "aggType": "",
       "arguments": {},
       "columnCustomDisplayInfos": {},
       "data": [
        [
         "dbfs:/databricks-datasets/wine-quality/README.md",
         "README.md",
         1066,
         1594262736000
        ],
        [
         "dbfs:/databricks-datasets/wine-quality/winequality-red.csv",
         "winequality-red.csv",
         84199,
         1594262736000
        ],
        [
         "dbfs:/databricks-datasets/wine-quality/winequality-white.csv",
         "winequality-white.csv",
         264426,
         1594262736000
        ]
       ],
       "datasetInfos": [],
       "dbfsResultPath": null,
       "isJsonSchema": true,
       "metadata": {},
       "overflow": false,
       "plotOptions": {
        "customPlotOptions": {},
        "displayType": "table",
        "pivotAggregation": null,
        "pivotColumns": null,
        "xColumns": null,
        "yColumns": null
       },
       "removedWidgets": [],
       "schema": [
        {
         "metadata": "{}",
         "name": "path",
         "type": "\"string\""
        },
        {
         "metadata": "{}",
         "name": "name",
         "type": "\"string\""
        },
        {
         "metadata": "{}",
         "name": "size",
         "type": "\"long\""
        },
        {
         "metadata": "{}",
         "name": "modificationTime",
         "type": "\"long\""
        }
       ],
       "type": "table"
      }
     },
     "output_type": "display_data"
    }
   ],
   "source": [
    "display(dbutils.fs.ls('/databricks-datasets/wine-quality/'))"
   ]
  },
  {
   "cell_type": "code",
   "execution_count": 0,
   "metadata": {
    "application/vnd.databricks.v1+cell": {
     "cellMetadata": {
      "byteLimit": 2048000,
      "rowLimit": 10000
     },
     "inputWidgets": {},
     "nuid": "b5c7438a-8a8b-42cd-a038-c3bf245c3a30",
     "showTitle": false,
     "title": ""
    }
   },
   "outputs": [
    {
     "output_type": "stream",
     "name": "stdout",
     "output_type": "stream",
     "text": [
      "+-------------+----------------+-----------+--------------+---------+-------------------+--------------------+-------+----+---------+-------+-------+\n|fixed acidity|volatile acidity|citric acid|residual sugar|chlorides|free sulfur dioxide|total sulfur dioxide|density|  pH|sulphates|alcohol|quality|\n+-------------+----------------+-----------+--------------+---------+-------------------+--------------------+-------+----+---------+-------+-------+\n|          7.0|            0.27|       0.36|          20.7|    0.045|               45.0|               170.0|  1.001| 3.0|     0.45|    8.8|      6|\n|          6.3|             0.3|       0.34|           1.6|    0.049|               14.0|               132.0|  0.994| 3.3|     0.49|    9.5|      6|\n|          8.1|            0.28|        0.4|           6.9|     0.05|               30.0|                97.0| 0.9951|3.26|     0.44|   10.1|      6|\n|          7.2|            0.23|       0.32|           8.5|    0.058|               47.0|               186.0| 0.9956|3.19|      0.4|    9.9|      6|\n|          7.2|            0.23|       0.32|           8.5|    0.058|               47.0|               186.0| 0.9956|3.19|      0.4|    9.9|      6|\n+-------------+----------------+-----------+--------------+---------+-------------------+--------------------+-------+----+---------+-------+-------+\nonly showing top 5 rows\n\n"
     ]
    }
   ],
   "source": [
    "spark.read.csv('dbfs:/databricks-datasets/wine-quality/winequality-white.csv',header=True , inferSchema=True , sep=';').show(5)"
   ]
  },
  {
   "cell_type": "code",
   "execution_count": 0,
   "metadata": {
    "application/vnd.databricks.v1+cell": {
     "cellMetadata": {
      "byteLimit": 2048000,
      "rowLimit": 10000
     },
     "inputWidgets": {},
     "nuid": "33c20697-aa29-4500-886a-07947c7c1c6e",
     "showTitle": false,
     "title": ""
    }
   },
   "outputs": [
    {
     "output_type": "display_data",
     "data": {
      "text/html": [
       "<style scoped>\n",
       "  .table-result-container {\n",
       "    max-height: 300px;\n",
       "    overflow: auto;\n",
       "  }\n",
       "  table, th, td {\n",
       "    border: 1px solid black;\n",
       "    border-collapse: collapse;\n",
       "  }\n",
       "  th, td {\n",
       "    padding: 5px;\n",
       "  }\n",
       "  th {\n",
       "    text-align: left;\n",
       "  }\n",
       "</style><div class='table-result-container'><table class='table-result'><thead style='background-color: white'><tr><th>path</th><th>name</th><th>size</th><th>modificationTime</th></tr></thead><tbody><tr><td>dbfs:/databricks-datasets/COVID/coronavirusdataset/.DS_Store</td><td>.DS_Store</td><td>6148</td><td>1594102716000</td></tr><tr><td>dbfs:/databricks-datasets/COVID/coronavirusdataset/Case.csv</td><td>Case.csv</td><td>11711</td><td>1595191979000</td></tr><tr><td>dbfs:/databricks-datasets/COVID/coronavirusdataset/PatientInfo.csv</td><td>PatientInfo.csv</td><td>488859</td><td>1595191979000</td></tr><tr><td>dbfs:/databricks-datasets/COVID/coronavirusdataset/PatientRoute.csv</td><td>PatientRoute.csv</td><td>718510</td><td>1594102718000</td></tr><tr><td>dbfs:/databricks-datasets/COVID/coronavirusdataset/Policy.csv</td><td>Policy.csv</td><td>5713</td><td>1595191981000</td></tr><tr><td>dbfs:/databricks-datasets/COVID/coronavirusdataset/Region.csv</td><td>Region.csv</td><td>19082</td><td>1595191981000</td></tr><tr><td>dbfs:/databricks-datasets/COVID/coronavirusdataset/SearchTrend.csv</td><td>SearchTrend.csv</td><td>71722</td><td>1595191981000</td></tr><tr><td>dbfs:/databricks-datasets/COVID/coronavirusdataset/SeoulFloating.csv</td><td>SeoulFloating.csv</td><td>49682281</td><td>1595191981000</td></tr><tr><td>dbfs:/databricks-datasets/COVID/coronavirusdataset/Time.csv</td><td>Time.csv</td><td>6604</td><td>1595191981000</td></tr><tr><td>dbfs:/databricks-datasets/COVID/coronavirusdataset/TimeAge.csv</td><td>TimeAge.csv</td><td>27114</td><td>1595191981000</td></tr><tr><td>dbfs:/databricks-datasets/COVID/coronavirusdataset/TimeGender.csv</td><td>TimeGender.csv</td><td>6973</td><td>1595191981000</td></tr><tr><td>dbfs:/databricks-datasets/COVID/coronavirusdataset/TimeProvince.csv</td><td>TimeProvince.csv</td><td>92028</td><td>1595191981000</td></tr><tr><td>dbfs:/databricks-datasets/COVID/coronavirusdataset/Weather.csv</td><td>Weather.csv</td><td>1500573</td><td>1595191981000</td></tr><tr><td>dbfs:/databricks-datasets/COVID/coronavirusdataset/coronavirusdataset-readme.md</td><td>coronavirusdataset-readme.md</td><td>1786</td><td>1595191981000</td></tr><tr><td>dbfs:/databricks-datasets/COVID/coronavirusdataset/coronavirusdataset.zip</td><td>coronavirusdataset.zip</td><td>0</td><td>1587005067000</td></tr></tbody></table></div>"
      ]
     },
     "metadata": {
      "application/vnd.databricks.v1+output": {
       "addedWidgets": {},
       "aggData": [],
       "aggError": "",
       "aggOverflow": false,
       "aggSchema": [],
       "aggSeriesLimitReached": false,
       "aggType": "",
       "arguments": {},
       "columnCustomDisplayInfos": {},
       "data": [
        [
         "dbfs:/databricks-datasets/COVID/coronavirusdataset/.DS_Store",
         ".DS_Store",
         6148,
         1594102716000
        ],
        [
         "dbfs:/databricks-datasets/COVID/coronavirusdataset/Case.csv",
         "Case.csv",
         11711,
         1595191979000
        ],
        [
         "dbfs:/databricks-datasets/COVID/coronavirusdataset/PatientInfo.csv",
         "PatientInfo.csv",
         488859,
         1595191979000
        ],
        [
         "dbfs:/databricks-datasets/COVID/coronavirusdataset/PatientRoute.csv",
         "PatientRoute.csv",
         718510,
         1594102718000
        ],
        [
         "dbfs:/databricks-datasets/COVID/coronavirusdataset/Policy.csv",
         "Policy.csv",
         5713,
         1595191981000
        ],
        [
         "dbfs:/databricks-datasets/COVID/coronavirusdataset/Region.csv",
         "Region.csv",
         19082,
         1595191981000
        ],
        [
         "dbfs:/databricks-datasets/COVID/coronavirusdataset/SearchTrend.csv",
         "SearchTrend.csv",
         71722,
         1595191981000
        ],
        [
         "dbfs:/databricks-datasets/COVID/coronavirusdataset/SeoulFloating.csv",
         "SeoulFloating.csv",
         49682281,
         1595191981000
        ],
        [
         "dbfs:/databricks-datasets/COVID/coronavirusdataset/Time.csv",
         "Time.csv",
         6604,
         1595191981000
        ],
        [
         "dbfs:/databricks-datasets/COVID/coronavirusdataset/TimeAge.csv",
         "TimeAge.csv",
         27114,
         1595191981000
        ],
        [
         "dbfs:/databricks-datasets/COVID/coronavirusdataset/TimeGender.csv",
         "TimeGender.csv",
         6973,
         1595191981000
        ],
        [
         "dbfs:/databricks-datasets/COVID/coronavirusdataset/TimeProvince.csv",
         "TimeProvince.csv",
         92028,
         1595191981000
        ],
        [
         "dbfs:/databricks-datasets/COVID/coronavirusdataset/Weather.csv",
         "Weather.csv",
         1500573,
         1595191981000
        ],
        [
         "dbfs:/databricks-datasets/COVID/coronavirusdataset/coronavirusdataset-readme.md",
         "coronavirusdataset-readme.md",
         1786,
         1595191981000
        ],
        [
         "dbfs:/databricks-datasets/COVID/coronavirusdataset/coronavirusdataset.zip",
         "coronavirusdataset.zip",
         0,
         1587005067000
        ]
       ],
       "datasetInfos": [],
       "dbfsResultPath": null,
       "isJsonSchema": true,
       "metadata": {},
       "overflow": false,
       "plotOptions": {
        "customPlotOptions": {},
        "displayType": "table",
        "pivotAggregation": null,
        "pivotColumns": null,
        "xColumns": null,
        "yColumns": null
       },
       "removedWidgets": [],
       "schema": [
        {
         "metadata": "{}",
         "name": "path",
         "type": "\"string\""
        },
        {
         "metadata": "{}",
         "name": "name",
         "type": "\"string\""
        },
        {
         "metadata": "{}",
         "name": "size",
         "type": "\"long\""
        },
        {
         "metadata": "{}",
         "name": "modificationTime",
         "type": "\"long\""
        }
       ],
       "type": "table"
      }
     },
     "output_type": "display_data"
    }
   ],
   "source": [
    "display(dbutils.fs.ls('/databricks-datasets/COVID/coronavirusdataset/'))"
   ]
  },
  {
   "cell_type": "code",
   "execution_count": 0,
   "metadata": {
    "application/vnd.databricks.v1+cell": {
     "cellMetadata": {
      "byteLimit": 2048000,
      "rowLimit": 10000
     },
     "inputWidgets": {},
     "nuid": "f84a8180-3d2c-4da2-8f23-128fa6b0a533",
     "showTitle": false,
     "title": ""
    }
   },
   "outputs": [
    {
     "output_type": "stream",
     "name": "stdout",
     "output_type": "stream",
     "text": [
      "+----------+-------+-------+---------+-----------+\n|      date|   cold|    flu|pneumonia|coronavirus|\n+----------+-------+-------+---------+-----------+\n|2016-01-01|0.11663| 0.0559|  0.15726|    0.00736|\n|2016-01-02|0.13372|0.17135|  0.20826|     0.0089|\n|2016-01-03|0.14917|0.22317|  0.19326|    0.00845|\n|2016-01-04|0.17463|0.18626|  0.29008|    0.01145|\n|2016-01-05|0.17226|0.15072|  0.24562|    0.01381|\n+----------+-------+-------+---------+-----------+\nonly showing top 5 rows\n\n"
     ]
    }
   ],
   "source": [
    "Arquivo =\"dbfs:/databricks-datasets/COVID/coronavirusdataset/SearchTrend.csv\"\n",
    "spark.read.csv(Arquivo,header=True , inferSchema=True ).show(5)\n"
   ]
  }
 ],
 "metadata": {
  "application/vnd.databricks.v1+notebook": {
   "dashboards": [],
   "language": "python",
   "notebookMetadata": {
    "mostRecentlyExecutedCommandWithImplicitDF": {
     "commandId": -1,
     "dataframes": [
      "_sqldf"
     ]
    },
    "pythonIndentUnit": 4
   },
   "notebookName": "01.Primeiros comandos",
   "widgets": {}
  }
 },
 "nbformat": 4,
 "nbformat_minor": 0
}
